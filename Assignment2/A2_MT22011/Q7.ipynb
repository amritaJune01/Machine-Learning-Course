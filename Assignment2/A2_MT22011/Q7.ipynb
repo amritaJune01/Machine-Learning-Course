{
 "cells": [
  {
   "cell_type": "code",
   "execution_count": 1,
   "id": "68d6eea5",
   "metadata": {},
   "outputs": [],
   "source": [
    "# importing libraries\n",
    "from sklearn import metrics\n",
    "from sklearn.metrics import fbeta_score"
   ]
  },
  {
   "cell_type": "code",
   "execution_count": 2,
   "id": "66184d24",
   "metadata": {},
   "outputs": [],
   "source": [
    "# given\n",
    "ytrue = [1, 1, 1, 1, 1, 0, 0, 0, 0, 0]\n",
    "ypred = [1, 1, 1, 1, 1, 1, 1, 1, 1, 1]"
   ]
  },
  {
   "cell_type": "code",
   "execution_count": 3,
   "id": "505b5944",
   "metadata": {},
   "outputs": [
    {
     "name": "stdout",
     "output_type": "stream",
     "text": [
      "0.5\n"
     ]
    }
   ],
   "source": [
    "# calculating precision\n",
    "precision = metrics.precision_score(ytrue,ypred)\n",
    "print(precision)"
   ]
  },
  {
   "cell_type": "code",
   "execution_count": 4,
   "id": "f8f04711",
   "metadata": {},
   "outputs": [
    {
     "name": "stdout",
     "output_type": "stream",
     "text": [
      "1.0\n"
     ]
    }
   ],
   "source": [
    "# calculating recall\n",
    "recall = metrics.recall_score(ytrue,ypred)\n",
    "print(recall)"
   ]
  },
  {
   "cell_type": "code",
   "execution_count": 5,
   "id": "1cb1868c",
   "metadata": {},
   "outputs": [
    {
     "name": "stdout",
     "output_type": "stream",
     "text": [
      "0.56\n"
     ]
    }
   ],
   "source": [
    "# calculating f0.5 score\n",
    "f_05 = fbeta_score(ytrue, ypred, beta = 0.5)\n",
    "print(round(f_05,2))"
   ]
  },
  {
   "cell_type": "code",
   "execution_count": 6,
   "id": "f9ee94ee",
   "metadata": {},
   "outputs": [
    {
     "name": "stdout",
     "output_type": "stream",
     "text": [
      "0.67\n"
     ]
    }
   ],
   "source": [
    "# calculating f1 score\n",
    "f_1 = fbeta_score(ytrue, ypred, beta = 1)\n",
    "print(round(f_1,2))"
   ]
  },
  {
   "cell_type": "code",
   "execution_count": 7,
   "id": "7a5803db",
   "metadata": {},
   "outputs": [
    {
     "name": "stdout",
     "output_type": "stream",
     "text": [
      "0.96\n"
     ]
    }
   ],
   "source": [
    "# calculating f5 score\n",
    "f_5 = fbeta_score(ytrue, ypred, beta = 5)\n",
    "print(round(f_5,2))"
   ]
  }
 ],
 "metadata": {
  "kernelspec": {
   "display_name": "Python 3 (ipykernel)",
   "language": "python",
   "name": "python3"
  },
  "language_info": {
   "codemirror_mode": {
    "name": "ipython",
    "version": 3
   },
   "file_extension": ".py",
   "mimetype": "text/x-python",
   "name": "python",
   "nbconvert_exporter": "python",
   "pygments_lexer": "ipython3",
   "version": "3.7.13"
  }
 },
 "nbformat": 4,
 "nbformat_minor": 5
}

{
 "cells": [
  {
   "cell_type": "code",
   "execution_count": 1,
   "id": "6a4d97b5",
   "metadata": {},
   "outputs": [],
   "source": [
    "# importing libraries\n",
    "import numpy as np\n",
    "import pandas as pd\n",
    "import matplotlib.pyplot as plt\n",
    "import seaborn as sns\n",
    "import tensorflow as tf"
   ]
  },
  {
   "cell_type": "code",
   "execution_count": 2,
   "id": "7c512da7",
   "metadata": {},
   "outputs": [],
   "source": [
    "# split dataset into training and test set while loading it\n",
    "(x_train, y_train), (x_test, y_test) = tf.keras.datasets.mnist.load_data()"
   ]
  },
  {
   "cell_type": "code",
   "execution_count": 3,
   "id": "7ab8a780",
   "metadata": {},
   "outputs": [
    {
     "name": "stdout",
     "output_type": "stream",
     "text": [
      "Shape of independant variables of training data is: (60000, 28, 28)\n",
      "Shape of dependant variables of training data is: (60000,)\n",
      "Shape of independant variables of test data is: (10000, 28, 28)\n",
      "Shape of dependant variable of test data is: (10000,)\n"
     ]
    }
   ],
   "source": [
    "# printing the shape(size) of training and test dataset\n",
    "print(\"Shape of independant variables of training data is: {}\".format(x_train.shape))\n",
    "print(\"Shape of dependant variables of training data is: {}\".format(y_train.shape))\n",
    "print(\"Shape of independant variables of test data is: {}\".format(x_test.shape))\n",
    "print(\"Shape of dependant variable of test data is: {}\".format(y_test.shape))"
   ]
  },
  {
   "cell_type": "code",
   "execution_count": 4,
   "id": "88741040",
   "metadata": {},
   "outputs": [
    {
     "name": "stdout",
     "output_type": "stream",
     "text": [
      "First five training images-\n",
      "\n"
     ]
    },
    {
     "data": {
      "image/png": "[encoded data removed]",
      "text/plain": [
       "<Figure size 432x288 with 5 Axes>"
      ]
     },
     "metadata": {
      "needs_background": "light"
     },
     "output_type": "display_data"
    }
   ],
   "source": [
    "# first five training images using imshow function from matplotlib\n",
    "print(\"First five training images-\\n\")\n",
    "fig,sb = plt.subplots(1, 5) # making coordinates of 1*5 for images to fit\n",
    "for i in range(0,5):\n",
    "    sb[i].imshow(x_train[i])"
   ]
  },
  {
   "cell_type": "code",
   "execution_count": 5,
   "id": "9c9d5736",
   "metadata": {},
   "outputs": [
    {
     "data": {
      "text/html": [
       "<div>\n",
       "<style scoped>\n",
       "    .dataframe tbody tr th:only-of-type {\n",
       "        vertical-align: middle;\n",
       "    }\n",
       "\n",
       "    .dataframe tbody tr th {\n",
       "        vertical-align: top;\n",
       "    }\n",
       "\n",
       "    .dataframe thead th {\n",
       "        text-align: right;\n",
       "    }\n",
       "</style>\n",
       "<table border=\"1\" class=\"dataframe\">\n",
       "  <thead>\n",
       "    <tr style=\"text-align: right;\">\n",
       "      <th></th>\n",
       "      <th>0</th>\n",
       "      <th>1</th>\n",
       "      <th>2</th>\n",
       "      <th>3</th>\n",
       "      <th>4</th>\n",
       "      <th>5</th>\n",
       "      <th>6</th>\n",
       "      <th>7</th>\n",
       "      <th>8</th>\n",
       "      <th>9</th>\n",
       "      <th>...</th>\n",
       "      <th>775</th>\n",
       "      <th>776</th>\n",
       "      <th>777</th>\n",
       "      <th>778</th>\n",
       "      <th>779</th>\n",
       "      <th>780</th>\n",
       "      <th>781</th>\n",
       "      <th>782</th>\n",
       "      <th>783</th>\n",
       "      <th>label</th>\n",
       "    </tr>\n",
       "  </thead>\n",
       "  <tbody>\n",
       "    <tr>\n",
       "      <th>0</th>\n",
       "      <td>0</td>\n",
       "      <td>0</td>\n",
       "      <td>0</td>\n",
       "      <td>0</td>\n",
       "      <td>0</td>\n",
       "      <td>0</td>\n",
       "      <td>0</td>\n",
       "      <td>0</td>\n",
       "      <td>0</td>\n",
       "      <td>0</td>\n",
       "      <td>...</td>\n",
       "      <td>0</td>\n",
       "      <td>0</td>\n",
       "      <td>0</td>\n",
       "      <td>0</td>\n",
       "      <td>0</td>\n",
       "      <td>0</td>\n",
       "      <td>0</td>\n",
       "      <td>0</td>\n",
       "      <td>0</td>\n",
       "      <td>5</td>\n",
       "    </tr>\n",
       "    <tr>\n",
       "      <th>1</th>\n",
       "      <td>0</td>\n",
       "      <td>0</td>\n",
       "      <td>0</td>\n",
       "      <td>0</td>\n",
       "      <td>0</td>\n",
       "      <td>0</td>\n",
       "      <td>0</td>\n",
       "      <td>0</td>\n",
       "      <td>0</td>\n",
       "      <td>0</td>\n",
       "      <td>...</td>\n",
       "      <td>0</td>\n",
       "      <td>0</td>\n",
       "      <td>0</td>\n",
       "      <td>0</td>\n",
       "      <td>0</td>\n",
       "      <td>0</td>\n",
       "      <td>0</td>\n",
       "      <td>0</td>\n",
       "      <td>0</td>\n",
       "      <td>0</td>\n",
       "    </tr>\n",
       "    <tr>\n",
       "      <th>2</th>\n",
       "      <td>0</td>\n",
       "      <td>0</td>\n",
       "      <td>0</td>\n",
       "      <td>0</td>\n",
       "      <td>0</td>\n",
       "      <td>0</td>\n",
       "      <td>0</td>\n",
       "      <td>0</td>\n",
       "      <td>0</td>\n",
       "      <td>0</td>\n",
       "      <td>...</td>\n",
       "      <td>0</td>\n",
       "      <td>0</td>\n",
       "      <td>0</td>\n",
       "      <td>0</td>\n",
       "      <td>0</td>\n",
       "      <td>0</td>\n",
       "      <td>0</td>\n",
       "      <td>0</td>\n",
       "      <td>0</td>\n",
       "      <td>4</td>\n",
       "    </tr>\n",
       "    <tr>\n",
       "      <th>3</th>\n",
       "      <td>0</td>\n",
       "      <td>0</td>\n",
       "      <td>0</td>\n",
       "      <td>0</td>\n",
       "      <td>0</td>\n",
       "      <td>0</td>\n",
       "      <td>0</td>\n",
       "      <td>0</td>\n",
       "      <td>0</td>\n",
       "      <td>0</td>\n",
       "      <td>...</td>\n",
       "      <td>0</td>\n",
       "      <td>0</td>\n",
       "      <td>0</td>\n",
       "      <td>0</td>\n",
       "      <td>0</td>\n",
       "      <td>0</td>\n",
       "      <td>0</td>\n",
       "      <td>0</td>\n",
       "      <td>0</td>\n",
       "      <td>1</td>\n",
       "    </tr>\n",
       "    <tr>\n",
       "      <th>4</th>\n",
       "      <td>0</td>\n",
       "      <td>0</td>\n",
       "      <td>0</td>\n",
       "      <td>0</td>\n",
       "      <td>0</td>\n",
       "      <td>0</td>\n",
       "      <td>0</td>\n",
       "      <td>0</td>\n",
       "      <td>0</td>\n",
       "      <td>0</td>\n",
       "      <td>...</td>\n",
       "      <td>0</td>\n",
       "      <td>0</td>\n",
       "      <td>0</td>\n",
       "      <td>0</td>\n",
       "      <td>0</td>\n",
       "      <td>0</td>\n",
       "      <td>0</td>\n",
       "      <td>0</td>\n",
       "      <td>0</td>\n",
       "      <td>9</td>\n",
       "    </tr>\n",
       "  </tbody>\n",
       "</table>\n",
       "<p>5 rows × 785 columns</p>\n",
       "</div>"
      ],
      "text/plain": [
       "   0  1  2  3  4  5  6  7  8  9  ...  775  776  777  778  779  780  781  782  \\\n",
       "0  0  0  0  0  0  0  0  0  0  0  ...    0    0    0    0    0    0    0    0   \n",
       "1  0  0  0  0  0  0  0  0  0  0  ...    0    0    0    0    0    0    0    0   \n",
       "2  0  0  0  0  0  0  0  0  0  0  ...    0    0    0    0    0    0    0    0   \n",
       "3  0  0  0  0  0  0  0  0  0  0  ...    0    0    0    0    0    0    0    0   \n",
       "4  0  0  0  0  0  0  0  0  0  0  ...    0    0    0    0    0    0    0    0   \n",
       "\n",
       "   783  label  \n",
       "0    0      5  \n",
       "1    0      0  \n",
       "2    0      4  \n",
       "3    0      1  \n",
       "4    0      9  \n",
       "\n",
       "[5 rows x 785 columns]"
      ]
     },
     "execution_count": 5,
     "metadata": {},
     "output_type": "execute_result"
    }
   ],
   "source": [
    "# converting train features and target to dataframe\n",
    "\n",
    "# converting x_train from 3D to 2D: \n",
    "# taking each picture of 28*28 pixels and flattening it row wise one after the other.\n",
    "# Thus now we have 60,000 images(rows) each of whose 784 columns are the 28*28 pixels\n",
    "xTrain = pd.DataFrame(np.array(x_train).reshape(x_train.shape[0],x_train.shape[1]*x_train.shape[2])) \n",
    "\n",
    "yTrain = pd.DataFrame(data=y_train,columns=['label']) # reading y_Train into a dataframe and renaming its column\n",
    "\n",
    "df_x_train = pd.concat([xTrain, yTrain],axis=1) # making the two dataframe as one\n",
    "df_x_train.head() #visualizing first 5 rows of newly created dataframe\n"
   ]
  },
  {
   "cell_type": "code",
   "execution_count": 6,
   "id": "b9deec7f",
   "metadata": {},
   "outputs": [],
   "source": [
    "# converting train features and target to dataframe\n",
    "\n",
    "# converting x_test from 3D to 2D: \n",
    "# taking each picture of 28*28 pixels and flattening it row wise one after the other.\n",
    "# Thus now we have 60,000 images(rows) each of whose 784 columns are the 28*28 pixels\n",
    "xTest = pd.DataFrame(np.array(x_test).reshape(x_test.shape[0],x_test.shape[1]*x_test.shape[2])) \n",
    "\n",
    "yTest = pd.DataFrame(data=y_test,columns=['test label']) #reading y_test to a dataframe and renaming its column"
   ]
  },
  {
   "cell_type": "code",
   "execution_count": 7,
   "id": "bc6ab6d1",
   "metadata": {},
   "outputs": [
    {
     "name": "stderr",
     "output_type": "stream",
     "text": [
      "/Users/amritaaash/opt/anaconda3/lib/python3.7/site-packages/seaborn/_decorators.py:43: FutureWarning: Pass the following variable as a keyword arg: x. From version 0.12, the only valid positional argument will be `data`, and passing other arguments without an explicit keyword will result in an error or misinterpretation.\n",
      "  FutureWarning\n"
     ]
    },
    {
     "data": {
      "image/png": "[encoded data removed]",
      "text/plain": [
       "<Figure size 432x288 with 1 Axes>"
      ]
     },
     "metadata": {
      "needs_background": "light"
     },
     "output_type": "display_data"
    }
   ],
   "source": [
    "# visualizing the classes\n",
    "sns.countplot(df_x_train['label'])\n",
    "plt.show()"
   ]
  },
  {
   "cell_type": "code",
   "execution_count": 8,
   "id": "6d574345",
   "metadata": {},
   "outputs": [],
   "source": [
    "# scaling the train features as pixel size varies from 0 to 255\n",
    "from sklearn.preprocessing import StandardScaler\n",
    "\n",
    "scaler = StandardScaler()\n",
    "xTrainScaled = scaler.fit_transform(xTrain)\n",
    "xTestScaled = scaler.fit_transform(xTest)"
   ]
  },
  {
   "cell_type": "code",
   "execution_count": 9,
   "id": "43ee4f0d",
   "metadata": {},
   "outputs": [
    {
     "name": "stderr",
     "output_type": "stream",
     "text": [
      "/Users/amritaaash/opt/anaconda3/lib/python3.7/site-packages/sklearn/utils/validation.py:993: DataConversionWarning: A column-vector y was passed when a 1d array was expected. Please change the shape of y to (n_samples, ), for example using ravel().\n",
      "  y = column_or_1d(y, warn=True)\n"
     ]
    },
    {
     "data": {
      "text/plain": [
       "SVC(kernel='linear')"
      ]
     },
     "execution_count": 9,
     "metadata": {},
     "output_type": "execute_result"
    }
   ],
   "source": [
    "from sklearn import svm\n",
    "\n",
    "svc = svm.SVC(kernel = 'linear')\n",
    "svc.fit(xTrainScaled,yTrain) # fitting linear svc model"
   ]
  },
  {
   "cell_type": "code",
   "execution_count": 10,
   "id": "b9a156cd",
   "metadata": {},
   "outputs": [],
   "source": [
    "# predicting for test set\n",
    "yPred = svc.predict(xTestScaled)"
   ]
  },
  {
   "cell_type": "code",
   "execution_count": 11,
   "id": "c25d4465",
   "metadata": {},
   "outputs": [
    {
     "data": {
      "text/plain": [
       "array([7, 2, 1, 0, 4, 1, 4, 9, 6, 9, 0, 6, 9, 0, 1, 5, 9, 7, 2, 4],\n",
       "      dtype=uint8)"
      ]
     },
     "execution_count": 11,
     "metadata": {},
     "output_type": "execute_result"
    }
   ],
   "source": [
    "yPred[:20] # displaying first 20 predicted results"
   ]
  },
  {
   "cell_type": "code",
   "execution_count": 12,
   "id": "a230b311",
   "metadata": {},
   "outputs": [
    {
     "name": "stdout",
     "output_type": "stream",
     "text": [
      "Accuracy of SVC on mnist test data is:  92.8\n"
     ]
    }
   ],
   "source": [
    "from sklearn.metrics import accuracy_score\n",
    "\n",
    "accuracy = accuracy_score(yTest,yPred)*100\n",
    "print(\"Accuracy of SVC on mnist test data is: \", round(accuracy,2))"
   ]
  },
  {
   "cell_type": "code",
   "execution_count": 13,
   "id": "a5ce41c1",
   "metadata": {},
   "outputs": [
    {
     "data": {
      "text/html": [
       "<div>\n",
       "<style scoped>\n",
       "    .dataframe tbody tr th:only-of-type {\n",
       "        vertical-align: middle;\n",
       "    }\n",
       "\n",
       "    .dataframe tbody tr th {\n",
       "        vertical-align: top;\n",
       "    }\n",
       "\n",
       "    .dataframe thead th {\n",
       "        text-align: right;\n",
       "    }\n",
       "</style>\n",
       "<table border=\"1\" class=\"dataframe\">\n",
       "  <thead>\n",
       "    <tr style=\"text-align: right;\">\n",
       "      <th></th>\n",
       "      <th>0</th>\n",
       "      <th>1</th>\n",
       "      <th>2</th>\n",
       "      <th>3</th>\n",
       "      <th>4</th>\n",
       "      <th>5</th>\n",
       "      <th>6</th>\n",
       "      <th>7</th>\n",
       "      <th>8</th>\n",
       "      <th>9</th>\n",
       "    </tr>\n",
       "  </thead>\n",
       "  <tbody>\n",
       "    <tr>\n",
       "      <th>0</th>\n",
       "      <td>953</td>\n",
       "      <td>0</td>\n",
       "      <td>6</td>\n",
       "      <td>2</td>\n",
       "      <td>1</td>\n",
       "      <td>8</td>\n",
       "      <td>6</td>\n",
       "      <td>2</td>\n",
       "      <td>1</td>\n",
       "      <td>1</td>\n",
       "    </tr>\n",
       "    <tr>\n",
       "      <th>1</th>\n",
       "      <td>0</td>\n",
       "      <td>1118</td>\n",
       "      <td>7</td>\n",
       "      <td>2</td>\n",
       "      <td>0</td>\n",
       "      <td>1</td>\n",
       "      <td>2</td>\n",
       "      <td>1</td>\n",
       "      <td>4</td>\n",
       "      <td>0</td>\n",
       "    </tr>\n",
       "    <tr>\n",
       "      <th>2</th>\n",
       "      <td>9</td>\n",
       "      <td>12</td>\n",
       "      <td>956</td>\n",
       "      <td>11</td>\n",
       "      <td>9</td>\n",
       "      <td>4</td>\n",
       "      <td>5</td>\n",
       "      <td>5</td>\n",
       "      <td>18</td>\n",
       "      <td>3</td>\n",
       "    </tr>\n",
       "    <tr>\n",
       "      <th>3</th>\n",
       "      <td>7</td>\n",
       "      <td>1</td>\n",
       "      <td>15</td>\n",
       "      <td>940</td>\n",
       "      <td>0</td>\n",
       "      <td>17</td>\n",
       "      <td>1</td>\n",
       "      <td>6</td>\n",
       "      <td>19</td>\n",
       "      <td>4</td>\n",
       "    </tr>\n",
       "    <tr>\n",
       "      <th>4</th>\n",
       "      <td>3</td>\n",
       "      <td>2</td>\n",
       "      <td>18</td>\n",
       "      <td>1</td>\n",
       "      <td>927</td>\n",
       "      <td>0</td>\n",
       "      <td>3</td>\n",
       "      <td>6</td>\n",
       "      <td>3</td>\n",
       "      <td>19</td>\n",
       "    </tr>\n",
       "    <tr>\n",
       "      <th>5</th>\n",
       "      <td>7</td>\n",
       "      <td>6</td>\n",
       "      <td>7</td>\n",
       "      <td>40</td>\n",
       "      <td>5</td>\n",
       "      <td>791</td>\n",
       "      <td>12</td>\n",
       "      <td>1</td>\n",
       "      <td>20</td>\n",
       "      <td>3</td>\n",
       "    </tr>\n",
       "    <tr>\n",
       "      <th>6</th>\n",
       "      <td>14</td>\n",
       "      <td>3</td>\n",
       "      <td>17</td>\n",
       "      <td>1</td>\n",
       "      <td>9</td>\n",
       "      <td>19</td>\n",
       "      <td>892</td>\n",
       "      <td>0</td>\n",
       "      <td>3</td>\n",
       "      <td>0</td>\n",
       "    </tr>\n",
       "    <tr>\n",
       "      <th>7</th>\n",
       "      <td>2</td>\n",
       "      <td>8</td>\n",
       "      <td>23</td>\n",
       "      <td>14</td>\n",
       "      <td>11</td>\n",
       "      <td>2</td>\n",
       "      <td>0</td>\n",
       "      <td>945</td>\n",
       "      <td>2</td>\n",
       "      <td>21</td>\n",
       "    </tr>\n",
       "    <tr>\n",
       "      <th>8</th>\n",
       "      <td>11</td>\n",
       "      <td>7</td>\n",
       "      <td>10</td>\n",
       "      <td>29</td>\n",
       "      <td>8</td>\n",
       "      <td>23</td>\n",
       "      <td>8</td>\n",
       "      <td>6</td>\n",
       "      <td>860</td>\n",
       "      <td>12</td>\n",
       "    </tr>\n",
       "    <tr>\n",
       "      <th>9</th>\n",
       "      <td>9</td>\n",
       "      <td>7</td>\n",
       "      <td>6</td>\n",
       "      <td>11</td>\n",
       "      <td>38</td>\n",
       "      <td>5</td>\n",
       "      <td>0</td>\n",
       "      <td>23</td>\n",
       "      <td>12</td>\n",
       "      <td>898</td>\n",
       "    </tr>\n",
       "  </tbody>\n",
       "</table>\n",
       "</div>"
      ],
      "text/plain": [
       "     0     1    2    3    4    5    6    7    8    9\n",
       "0  953     0    6    2    1    8    6    2    1    1\n",
       "1    0  1118    7    2    0    1    2    1    4    0\n",
       "2    9    12  956   11    9    4    5    5   18    3\n",
       "3    7     1   15  940    0   17    1    6   19    4\n",
       "4    3     2   18    1  927    0    3    6    3   19\n",
       "5    7     6    7   40    5  791   12    1   20    3\n",
       "6   14     3   17    1    9   19  892    0    3    0\n",
       "7    2     8   23   14   11    2    0  945    2   21\n",
       "8   11     7   10   29    8   23    8    6  860   12\n",
       "9    9     7    6   11   38    5    0   23   12  898"
      ]
     },
     "execution_count": 13,
     "metadata": {},
     "output_type": "execute_result"
    }
   ],
   "source": [
    "from sklearn.metrics import confusion_matrix\n",
    "\n",
    "cm = confusion_matrix(yTest, yPred) # generating confusion matrix\n",
    "cm_df = pd.DataFrame(cm) # converting to dataframe for better visualization\n",
    "cm_df"
   ]
  },
  {
   "cell_type": "code",
   "execution_count": 14,
   "id": "dab8eb3a",
   "metadata": {},
   "outputs": [],
   "source": [
    "from sklearn.metrics import f1_score\n",
    "\n",
    "f1_score = f1_score(yTest, yPred, average=None) # calculating f1_score using built in function"
   ]
  },
  {
   "cell_type": "code",
   "execution_count": 15,
   "id": "d4ec68cb",
   "metadata": {},
   "outputs": [],
   "source": [
    "# function to calculate f1_score from scratch using confusion matrix\n",
    "def F1_score(confusion_matrix):\n",
    "    \n",
    "    classes = list(confusion_matrix.columns)\n",
    "    f1_score = []\n",
    "    tp = []\n",
    "    fp = []\n",
    "    fn = []\n",
    "    \n",
    "    for i in classes:\n",
    "        tp.append(confusion_matrix[i][i])\n",
    "        \n",
    "        fp_val = 0\n",
    "        for j in classes:\n",
    "            if(i!=j):\n",
    "                fp_val += confusion_matrix[i][j]\n",
    "        fp.append(fp_val)\n",
    "        \n",
    "        fn_val = 0\n",
    "        for j in classes:\n",
    "            if(i!=j):\n",
    "                fn_val += confusion_matrix[j][i]\n",
    "        fn.append(fn_val)\n",
    "    \n",
    "    for i in classes:\n",
    "        tp[i] = 2*tp[i]\n",
    "        f1_score.append(tp[i]/(tp[i] + fp[i] + fn[i]))\n",
    "    \n",
    "    return f1_score\n",
    "    "
   ]
  },
  {
   "cell_type": "code",
   "execution_count": 16,
   "id": "9d9174a0",
   "metadata": {},
   "outputs": [
    {
     "data": {
      "text/html": [
       "<div>\n",
       "<style scoped>\n",
       "    .dataframe tbody tr th:only-of-type {\n",
       "        vertical-align: middle;\n",
       "    }\n",
       "\n",
       "    .dataframe tbody tr th {\n",
       "        vertical-align: top;\n",
       "    }\n",
       "\n",
       "    .dataframe thead th {\n",
       "        text-align: right;\n",
       "    }\n",
       "</style>\n",
       "<table border=\"1\" class=\"dataframe\">\n",
       "  <thead>\n",
       "    <tr style=\"text-align: right;\">\n",
       "      <th></th>\n",
       "      <th>0</th>\n",
       "      <th>1</th>\n",
       "      <th>2</th>\n",
       "      <th>3</th>\n",
       "      <th>4</th>\n",
       "      <th>5</th>\n",
       "      <th>6</th>\n",
       "      <th>7</th>\n",
       "      <th>8</th>\n",
       "      <th>9</th>\n",
       "    </tr>\n",
       "  </thead>\n",
       "  <tbody>\n",
       "    <tr>\n",
       "      <th>F1_Score using inbuilt function</th>\n",
       "      <td>0.955388</td>\n",
       "      <td>0.972597</td>\n",
       "      <td>0.911779</td>\n",
       "      <td>0.912179</td>\n",
       "      <td>0.931658</td>\n",
       "      <td>0.897843</td>\n",
       "      <td>0.945416</td>\n",
       "      <td>0.934256</td>\n",
       "      <td>0.897704</td>\n",
       "      <td>0.911675</td>\n",
       "    </tr>\n",
       "    <tr>\n",
       "      <th>F1_Score using user function</th>\n",
       "      <td>0.955388</td>\n",
       "      <td>0.972597</td>\n",
       "      <td>0.911779</td>\n",
       "      <td>0.912179</td>\n",
       "      <td>0.931658</td>\n",
       "      <td>0.897843</td>\n",
       "      <td>0.945416</td>\n",
       "      <td>0.934256</td>\n",
       "      <td>0.897704</td>\n",
       "      <td>0.911675</td>\n",
       "    </tr>\n",
       "  </tbody>\n",
       "</table>\n",
       "</div>"
      ],
      "text/plain": [
       "                                        0         1         2         3  \\\n",
       "F1_Score using inbuilt function  0.955388  0.972597  0.911779  0.912179   \n",
       "F1_Score using user function     0.955388  0.972597  0.911779  0.912179   \n",
       "\n",
       "                                        4         5         6         7  \\\n",
       "F1_Score using inbuilt function  0.931658  0.897843  0.945416  0.934256   \n",
       "F1_Score using user function     0.931658  0.897843  0.945416  0.934256   \n",
       "\n",
       "                                        8         9  \n",
       "F1_Score using inbuilt function  0.897704  0.911675  \n",
       "F1_Score using user function     0.897704  0.911675  "
      ]
     },
     "execution_count": 16,
     "metadata": {},
     "output_type": "execute_result"
    }
   ],
   "source": [
    "# converting built in f1_score to a dataframe\n",
    "df1 = pd.DataFrame(f1_score)\n",
    "df1 = df1.T\n",
    "df1 = df1.set_axis(['F1_Score using inbuilt function'], axis=0)\n",
    "\n",
    "# converting F1_score() return value to a dataframe\n",
    "df2 = pd.DataFrame(F1_score(cm_df))\n",
    "df2\n",
    "df2 = df2.T\n",
    "df2 = df2.set_axis(['F1_Score using user function'], axis=0)\n",
    "\n",
    "# concatinating the 2 f1_scores calculated for each class\n",
    "f1_score_df = pd.concat([df1,df2],axis = 0)\n",
    "f1_score_df"
   ]
  },
  {
   "cell_type": "code",
   "execution_count": 17,
   "id": "49cf9533",
   "metadata": {},
   "outputs": [
    {
     "name": "stdout",
     "output_type": "stream",
     "text": [
      "Shape of new train set of features:  (42000, 784)\n",
      "Shape of new test set of features:  (18000, 784)\n",
      "Shape of new train set target valriable:  (42000, 1)\n",
      "Shape of new test set of target variables:  (18000, 1)\n"
     ]
    }
   ],
   "source": [
    "# performing a train test split again on the training dataset and using the newly formed train test split for svm rbf and polynomial kernel due to heave computation with 60k instances\n",
    "from sklearn.model_selection import train_test_split\n",
    "\n",
    "X_train, X_test, y_train, y_test = train_test_split(xTrainScaled,yTrain,test_size=0.30)\n",
    "print(\"Shape of new train set of features: \" ,X_train.shape)\n",
    "print(\"Shape of new test set of features: \" ,X_test.shape)\n",
    "print(\"Shape of new train set target valriable: \" ,y_train.shape)\n",
    "print(\"Shape of new test set of target variables: \" ,y_test.shape)\n"
   ]
  },
  {
   "cell_type": "code",
   "execution_count": 18,
   "id": "9eac7b64",
   "metadata": {},
   "outputs": [
    {
     "name": "stderr",
     "output_type": "stream",
     "text": [
      "/Users/amritaaash/opt/anaconda3/lib/python3.7/site-packages/sklearn/utils/validation.py:993: DataConversionWarning: A column-vector y was passed when a 1d array was expected. Please change the shape of y to (n_samples, ), for example using ravel().\n",
      "  y = column_or_1d(y, warn=True)\n"
     ]
    }
   ],
   "source": [
    "# building non-linear models with the RBF kernel\n",
    "\n",
    "svc_rbf = svm.SVC(kernel = 'rbf')\n",
    "svc_rbf.fit(X_train,y_train) # fitting linear svc model\n",
    "yPred_rbf = svc_rbf.predict(X_test) # predicting for test set"
   ]
  },
  {
   "cell_type": "code",
   "execution_count": 19,
   "id": "5de55939",
   "metadata": {},
   "outputs": [
    {
     "name": "stdout",
     "output_type": "stream",
     "text": [
      "Accuracy of SVC on mnist test data using rbf kernel is:  96.06\n"
     ]
    }
   ],
   "source": [
    "# accuracy of svc using rbf kernel\n",
    "\n",
    "acc_rbf = accuracy_score(y_test,yPred_rbf)*100\n",
    "print(\"Accuracy of SVC on mnist test data using rbf kernel is: \", round(acc_rbf,2))"
   ]
  },
  {
   "cell_type": "code",
   "execution_count": 20,
   "id": "235fcab7",
   "metadata": {},
   "outputs": [
    {
     "name": "stderr",
     "output_type": "stream",
     "text": [
      "/Users/amritaaash/opt/anaconda3/lib/python3.7/site-packages/sklearn/utils/validation.py:993: DataConversionWarning: A column-vector y was passed when a 1d array was expected. Please change the shape of y to (n_samples, ), for example using ravel().\n",
      "  y = column_or_1d(y, warn=True)\n"
     ]
    }
   ],
   "source": [
    "# building non-linear model with the polynomial kernel\n",
    "\n",
    "svc_poly = svm.SVC(kernel = 'poly')\n",
    "svc_poly.fit(X_train,y_train) # fitting linear svc model\n",
    "yPred_poly = svc_poly.predict(X_test) # predicting for test set"
   ]
  },
  {
   "cell_type": "code",
   "execution_count": 21,
   "id": "24a9e8ad",
   "metadata": {},
   "outputs": [
    {
     "name": "stdout",
     "output_type": "stream",
     "text": [
      "Accuracy of SVC on mnist test data using polynomial kernel is:  95.53\n"
     ]
    }
   ],
   "source": [
    "# accuracy of svc using polynomial kernel\n",
    "\n",
    "acc_poly = accuracy_score(y_test,yPred_poly)*100\n",
    "print(\"Accuracy of SVC on mnist test data using polynomial kernel is: \", round(acc_poly,2))"
   ]
  },
  {
   "cell_type": "code",
   "execution_count": 22,
   "id": "e336acdc",
   "metadata": {},
   "outputs": [
    {
     "data": {
      "text/plain": [
       "PCA(n_components=0.75)"
      ]
     },
     "execution_count": 22,
     "metadata": {},
     "output_type": "execute_result"
    }
   ],
   "source": [
    "# applying PCA before performing GridSearchCV to reduce the heavy computation\n",
    "from sklearn.decomposition import PCA\n",
    "\n",
    "components = 0.75\n",
    "pca = PCA(n_components = components) # keeping desired explained variance as 75%\n",
    "pca.fit(X_train) # perform PCA on the scaled & split train data"
   ]
  },
  {
   "cell_type": "code",
   "execution_count": 23,
   "id": "cc3012e3",
   "metadata": {},
   "outputs": [
    {
     "data": {
      "text/plain": [
       "Text(0, 0.5, 'Explained variance (%)')"
      ]
     },
     "execution_count": 23,
     "metadata": {},
     "output_type": "execute_result"
    },
    {
     "data": {
      "image/png": "[encoded data removed]",
      "text/plain": [
       "<Figure size 432x288 with 1 Axes>"
      ]
     },
     "metadata": {
      "needs_background": "light"
     },
     "output_type": "display_data"
    }
   ],
   "source": [
    "# plotting a scree plot\n",
    "\n",
    "components = len(pca.explained_variance_ratio_)\n",
    "\n",
    "plt.plot(range(1,components+1), \n",
    "         np.cumsum(pca.explained_variance_ratio_ * 100))\n",
    "plt.xlabel(\"Number of components\")\n",
    "plt.ylabel(\"Explained variance (%)\")\n",
    "\n",
    "# approximately 120 features explain 75% of the variance"
   ]
  },
  {
   "cell_type": "code",
   "execution_count": 24,
   "id": "181250ba",
   "metadata": {},
   "outputs": [
    {
     "name": "stdout",
     "output_type": "stream",
     "text": [
      "Shape of train set of features after PCA:  (42000, 115)\n",
      "Shape of test set of features after PCA:  (18000, 115)\n"
     ]
    }
   ],
   "source": [
    "# transforming X_train & X_test to a lower dimensionality using PCA\n",
    "X_train_pca = pca.transform(X_train)\n",
    "X_test_pca = pca.transform(X_test)\n",
    "\n",
    "print(\"Shape of train set of features after PCA: \" ,X_train_pca.shape)\n",
    "print(\"Shape of test set of features after PCA: \" ,X_test_pca.shape)"
   ]
  },
  {
   "cell_type": "code",
   "execution_count": 25,
   "id": "ce2c16ea",
   "metadata": {},
   "outputs": [
    {
     "name": "stderr",
     "output_type": "stream",
     "text": [
      "/Users/amritaaash/opt/anaconda3/lib/python3.7/site-packages/sklearn/utils/validation.py:993: DataConversionWarning: A column-vector y was passed when a 1d array was expected. Please change the shape of y to (n_samples, ), for example using ravel().\n",
      "  y = column_or_1d(y, warn=True)\n",
      "/Users/amritaaash/opt/anaconda3/lib/python3.7/site-packages/sklearn/utils/validation.py:993: DataConversionWarning: A column-vector y was passed when a 1d array was expected. Please change the shape of y to (n_samples, ), for example using ravel().\n",
      "  y = column_or_1d(y, warn=True)\n",
      "/Users/amritaaash/opt/anaconda3/lib/python3.7/site-packages/sklearn/utils/validation.py:993: DataConversionWarning: A column-vector y was passed when a 1d array was expected. Please change the shape of y to (n_samples, ), for example using ravel().\n",
      "  y = column_or_1d(y, warn=True)\n",
      "/Users/amritaaash/opt/anaconda3/lib/python3.7/site-packages/sklearn/utils/validation.py:993: DataConversionWarning: A column-vector y was passed when a 1d array was expected. Please change the shape of y to (n_samples, ), for example using ravel().\n",
      "  y = column_or_1d(y, warn=True)\n",
      "/Users/amritaaash/opt/anaconda3/lib/python3.7/site-packages/sklearn/utils/validation.py:993: DataConversionWarning: A column-vector y was passed when a 1d array was expected. Please change the shape of y to (n_samples, ), for example using ravel().\n",
      "  y = column_or_1d(y, warn=True)\n",
      "/Users/amritaaash/opt/anaconda3/lib/python3.7/site-packages/sklearn/utils/validation.py:993: DataConversionWarning: A column-vector y was passed when a 1d array was expected. Please change the shape of y to (n_samples, ), for example using ravel().\n",
      "  y = column_or_1d(y, warn=True)\n",
      "/Users/amritaaash/opt/anaconda3/lib/python3.7/site-packages/sklearn/utils/validation.py:993: DataConversionWarning: A column-vector y was passed when a 1d array was expected. Please change the shape of y to (n_samples, ), for example using ravel().\n",
      "  y = column_or_1d(y, warn=True)\n",
      "/Users/amritaaash/opt/anaconda3/lib/python3.7/site-packages/sklearn/utils/validation.py:993: DataConversionWarning: A column-vector y was passed when a 1d array was expected. Please change the shape of y to (n_samples, ), for example using ravel().\n",
      "  y = column_or_1d(y, warn=True)\n",
      "/Users/amritaaash/opt/anaconda3/lib/python3.7/site-packages/sklearn/utils/validation.py:993: DataConversionWarning: A column-vector y was passed when a 1d array was expected. Please change the shape of y to (n_samples, ), for example using ravel().\n",
      "  y = column_or_1d(y, warn=True)\n"
     ]
    },
    {
     "data": {
      "text/html": [
       "<div>\n",
       "<style scoped>\n",
       "    .dataframe tbody tr th:only-of-type {\n",
       "        vertical-align: middle;\n",
       "    }\n",
       "\n",
       "    .dataframe tbody tr th {\n",
       "        vertical-align: top;\n",
       "    }\n",
       "\n",
       "    .dataframe thead th {\n",
       "        text-align: right;\n",
       "    }\n",
       "</style>\n",
       "<table border=\"1\" class=\"dataframe\">\n",
       "  <thead>\n",
       "    <tr style=\"text-align: right;\">\n",
       "      <th></th>\n",
       "      <th>param_C</th>\n",
       "      <th>param_gamma</th>\n",
       "      <th>mean_test_score</th>\n",
       "    </tr>\n",
       "  </thead>\n",
       "  <tbody>\n",
       "    <tr>\n",
       "      <th>0</th>\n",
       "      <td>0.5</td>\n",
       "      <td>0.01</td>\n",
       "      <td>0.871738</td>\n",
       "    </tr>\n",
       "    <tr>\n",
       "      <th>1</th>\n",
       "      <td>0.5</td>\n",
       "      <td>0.5</td>\n",
       "      <td>0.111643</td>\n",
       "    </tr>\n",
       "    <tr>\n",
       "      <th>2</th>\n",
       "      <td>10</td>\n",
       "      <td>0.01</td>\n",
       "      <td>0.916452</td>\n",
       "    </tr>\n",
       "    <tr>\n",
       "      <th>3</th>\n",
       "      <td>10</td>\n",
       "      <td>0.5</td>\n",
       "      <td>0.168310</td>\n",
       "    </tr>\n",
       "  </tbody>\n",
       "</table>\n",
       "</div>"
      ],
      "text/plain": [
       "  param_C param_gamma  mean_test_score\n",
       "0     0.5        0.01         0.871738\n",
       "1     0.5         0.5         0.111643\n",
       "2      10        0.01         0.916452\n",
       "3      10         0.5         0.168310"
      ]
     },
     "execution_count": 25,
     "metadata": {},
     "output_type": "execute_result"
    }
   ],
   "source": [
    "from sklearn.model_selection import GridSearchCV\n",
    "\n",
    "c_vals = [0.5,10] # set of possible C values for hyperparameter tuning\n",
    "        \n",
    "gamma_vals = [0.01,0.5] # set of possible gamma values for hyperparameter tuning\n",
    "\n",
    "param_grid = {'C' : c_vals, 'gamma' : gamma_vals}\n",
    "\n",
    "clf = GridSearchCV(svm.SVC(kernel = 'rbf'),param_grid,cv = 2) # having 2 fold cross validation\n",
    "\n",
    "clf.fit(X_train_pca,y_train)\n",
    "\n",
    "clf_df = pd.DataFrame(clf.cv_results_) # converting results of GridSearchCV to a dataframe\n",
    "clf_df[['param_C','param_gamma','mean_test_score']] # displaying imp columns\n"
   ]
  },
  {
   "cell_type": "code",
   "execution_count": 26,
   "id": "e309653c",
   "metadata": {},
   "outputs": [
    {
     "name": "stdout",
     "output_type": "stream",
     "text": [
      "0.916452380952381\n",
      "{'C': 10, 'gamma': 0.01}\n"
     ]
    }
   ],
   "source": [
    "print(clf.best_score_) # best scores \n",
    "print(clf.best_params_) # best hyperparameter values "
   ]
  },
  {
   "cell_type": "code",
   "execution_count": 27,
   "id": "607aa954",
   "metadata": {},
   "outputs": [
    {
     "name": "stderr",
     "output_type": "stream",
     "text": [
      "/Users/amritaaash/opt/anaconda3/lib/python3.7/site-packages/sklearn/utils/validation.py:993: DataConversionWarning: A column-vector y was passed when a 1d array was expected. Please change the shape of y to (n_samples, ), for example using ravel().\n",
      "  y = column_or_1d(y, warn=True)\n"
     ]
    }
   ],
   "source": [
    "# building final model with chosen hyperparameters\n",
    "\n",
    "model = svm.SVC(kernel = 'rbf', C = 10, gamma = 0.01)\n",
    "model.fit(X_train_pca,y_train) # fitting the model\n",
    "y_predicted = model.predict(X_test_pca) # predicting for test set"
   ]
  },
  {
   "cell_type": "code",
   "execution_count": 38,
   "id": "640ca4f7",
   "metadata": {},
   "outputs": [
    {
     "name": "stdout",
     "output_type": "stream",
     "text": [
      "Accuracy of SVC on mnist data using rbf kernel and using best parameters from GridSearchCV:  93.7\n"
     ]
    }
   ],
   "source": [
    "# accuracy of model\n",
    "\n",
    "accuracy = accuracy_score(y_test,y_predicted)*100\n",
    "print(\"Accuracy of SVC on mnist data using rbf kernel and using best parameters from GridSearchCV: \"\n",
    "      , round(accuracy,1))"
   ]
  },
  {
   "cell_type": "code",
   "execution_count": 29,
   "id": "3aeffa95",
   "metadata": {},
   "outputs": [
    {
     "data": {
      "text/html": [
       "<div>\n",
       "<style scoped>\n",
       "    .dataframe tbody tr th:only-of-type {\n",
       "        vertical-align: middle;\n",
       "    }\n",
       "\n",
       "    .dataframe tbody tr th {\n",
       "        vertical-align: top;\n",
       "    }\n",
       "\n",
       "    .dataframe thead th {\n",
       "        text-align: right;\n",
       "    }\n",
       "</style>\n",
       "<table border=\"1\" class=\"dataframe\">\n",
       "  <thead>\n",
       "    <tr style=\"text-align: right;\">\n",
       "      <th></th>\n",
       "      <th>0</th>\n",
       "      <th>1</th>\n",
       "      <th>2</th>\n",
       "      <th>3</th>\n",
       "      <th>4</th>\n",
       "      <th>5</th>\n",
       "      <th>6</th>\n",
       "      <th>7</th>\n",
       "      <th>8</th>\n",
       "      <th>9</th>\n",
       "    </tr>\n",
       "  </thead>\n",
       "  <tbody>\n",
       "    <tr>\n",
       "      <th>0</th>\n",
       "      <td>1738</td>\n",
       "      <td>1</td>\n",
       "      <td>56</td>\n",
       "      <td>2</td>\n",
       "      <td>1</td>\n",
       "      <td>3</td>\n",
       "      <td>6</td>\n",
       "      <td>1</td>\n",
       "      <td>2</td>\n",
       "      <td>1</td>\n",
       "    </tr>\n",
       "    <tr>\n",
       "      <th>1</th>\n",
       "      <td>3</td>\n",
       "      <td>2019</td>\n",
       "      <td>20</td>\n",
       "      <td>1</td>\n",
       "      <td>0</td>\n",
       "      <td>0</td>\n",
       "      <td>1</td>\n",
       "      <td>4</td>\n",
       "      <td>4</td>\n",
       "      <td>1</td>\n",
       "    </tr>\n",
       "    <tr>\n",
       "      <th>2</th>\n",
       "      <td>3</td>\n",
       "      <td>0</td>\n",
       "      <td>1759</td>\n",
       "      <td>2</td>\n",
       "      <td>3</td>\n",
       "      <td>1</td>\n",
       "      <td>0</td>\n",
       "      <td>3</td>\n",
       "      <td>3</td>\n",
       "      <td>2</td>\n",
       "    </tr>\n",
       "    <tr>\n",
       "      <th>3</th>\n",
       "      <td>1</td>\n",
       "      <td>1</td>\n",
       "      <td>139</td>\n",
       "      <td>1636</td>\n",
       "      <td>0</td>\n",
       "      <td>12</td>\n",
       "      <td>0</td>\n",
       "      <td>10</td>\n",
       "      <td>19</td>\n",
       "      <td>4</td>\n",
       "    </tr>\n",
       "    <tr>\n",
       "      <th>4</th>\n",
       "      <td>1</td>\n",
       "      <td>3</td>\n",
       "      <td>122</td>\n",
       "      <td>0</td>\n",
       "      <td>1611</td>\n",
       "      <td>0</td>\n",
       "      <td>4</td>\n",
       "      <td>3</td>\n",
       "      <td>1</td>\n",
       "      <td>13</td>\n",
       "    </tr>\n",
       "    <tr>\n",
       "      <th>5</th>\n",
       "      <td>1</td>\n",
       "      <td>0</td>\n",
       "      <td>72</td>\n",
       "      <td>19</td>\n",
       "      <td>1</td>\n",
       "      <td>1521</td>\n",
       "      <td>9</td>\n",
       "      <td>0</td>\n",
       "      <td>4</td>\n",
       "      <td>1</td>\n",
       "    </tr>\n",
       "    <tr>\n",
       "      <th>6</th>\n",
       "      <td>2</td>\n",
       "      <td>2</td>\n",
       "      <td>112</td>\n",
       "      <td>0</td>\n",
       "      <td>1</td>\n",
       "      <td>7</td>\n",
       "      <td>1697</td>\n",
       "      <td>0</td>\n",
       "      <td>6</td>\n",
       "      <td>0</td>\n",
       "    </tr>\n",
       "    <tr>\n",
       "      <th>7</th>\n",
       "      <td>0</td>\n",
       "      <td>8</td>\n",
       "      <td>122</td>\n",
       "      <td>3</td>\n",
       "      <td>6</td>\n",
       "      <td>0</td>\n",
       "      <td>0</td>\n",
       "      <td>1633</td>\n",
       "      <td>2</td>\n",
       "      <td>5</td>\n",
       "    </tr>\n",
       "    <tr>\n",
       "      <th>8</th>\n",
       "      <td>1</td>\n",
       "      <td>4</td>\n",
       "      <td>91</td>\n",
       "      <td>13</td>\n",
       "      <td>0</td>\n",
       "      <td>11</td>\n",
       "      <td>4</td>\n",
       "      <td>5</td>\n",
       "      <td>1585</td>\n",
       "      <td>3</td>\n",
       "    </tr>\n",
       "    <tr>\n",
       "      <th>9</th>\n",
       "      <td>2</td>\n",
       "      <td>3</td>\n",
       "      <td>101</td>\n",
       "      <td>9</td>\n",
       "      <td>13</td>\n",
       "      <td>2</td>\n",
       "      <td>1</td>\n",
       "      <td>27</td>\n",
       "      <td>7</td>\n",
       "      <td>1664</td>\n",
       "    </tr>\n",
       "  </tbody>\n",
       "</table>\n",
       "</div>"
      ],
      "text/plain": [
       "      0     1     2     3     4     5     6     7     8     9\n",
       "0  1738     1    56     2     1     3     6     1     2     1\n",
       "1     3  2019    20     1     0     0     1     4     4     1\n",
       "2     3     0  1759     2     3     1     0     3     3     2\n",
       "3     1     1   139  1636     0    12     0    10    19     4\n",
       "4     1     3   122     0  1611     0     4     3     1    13\n",
       "5     1     0    72    19     1  1521     9     0     4     1\n",
       "6     2     2   112     0     1     7  1697     0     6     0\n",
       "7     0     8   122     3     6     0     0  1633     2     5\n",
       "8     1     4    91    13     0    11     4     5  1585     3\n",
       "9     2     3   101     9    13     2     1    27     7  1664"
      ]
     },
     "execution_count": 29,
     "metadata": {},
     "output_type": "execute_result"
    }
   ],
   "source": [
    "# confusion matrix\n",
    "\n",
    "confsn_mat = confusion_matrix(y_test, y_predicted) # generating confusion matrix\n",
    "confsn_mat_df = pd.DataFrame(confsn_mat) # converting to dataframe for better visualization\n",
    "confsn_mat_df"
   ]
  },
  {
   "cell_type": "code",
   "execution_count": 40,
   "id": "5d81a612",
   "metadata": {},
   "outputs": [
    {
     "data": {
      "text/plain": [
       "(19456, 115)"
      ]
     },
     "execution_count": 40,
     "metadata": {},
     "output_type": "execute_result"
    }
   ],
   "source": [
    "# storing the support vectors of previous model as new train set\n",
    "\n",
    "X_train_new = model.support_vectors_\n",
    "X_train_new.shape"
   ]
  },
  {
   "cell_type": "code",
   "execution_count": 31,
   "id": "b22fd165",
   "metadata": {},
   "outputs": [],
   "source": [
    "# taking the respective target values from the indices of support vectors to form the new y_train\n",
    "temp = []\n",
    "for i in model.support_:\n",
    "    temp.append(y_train.iloc[i])\n",
    "y_train_new = np.array(temp)"
   ]
  },
  {
   "cell_type": "code",
   "execution_count": 32,
   "id": "7c181949",
   "metadata": {},
   "outputs": [
    {
     "name": "stderr",
     "output_type": "stream",
     "text": [
      "/Users/amritaaash/opt/anaconda3/lib/python3.7/site-packages/sklearn/utils/validation.py:993: DataConversionWarning: A column-vector y was passed when a 1d array was expected. Please change the shape of y to (n_samples, ), for example using ravel().\n",
      "  y = column_or_1d(y, warn=True)\n"
     ]
    },
    {
     "data": {
      "text/plain": [
       "SVC(C=10, gamma=0.01)"
      ]
     },
     "execution_count": 32,
     "metadata": {},
     "output_type": "execute_result"
    }
   ],
   "source": [
    "# building model with newly defined train set\n",
    "\n",
    "model_new = svm.SVC(kernel = 'rbf', C = 10, gamma = 0.01)\n",
    "model_new.fit(X_train_new,y_train_new) # fitting the model"
   ]
  },
  {
   "cell_type": "code",
   "execution_count": 33,
   "id": "7d1ed020",
   "metadata": {},
   "outputs": [],
   "source": [
    "y_train_pred_new = model_new.predict(X_train_new) # predicting for train set\n",
    "y_pred_new = model_new.predict(X_test_pca) # predicting for test set"
   ]
  },
  {
   "cell_type": "code",
   "execution_count": 34,
   "id": "32da2bd8",
   "metadata": {},
   "outputs": [
    {
     "name": "stdout",
     "output_type": "stream",
     "text": [
      "Accuracy of SVC on mnist train data using rbf kernel, best parameters from GridSearchCV and only the support vectors:  100.0\n"
     ]
    }
   ],
   "source": [
    "# accuracy of model\n",
    "\n",
    "accuracy_train = accuracy_score(y_train_new,y_train_pred_new)*100\n",
    "print(\"Accuracy of SVC on mnist train data using rbf kernel, best parameters from GridSearchCV and only the support vectors: \"\n",
    "      , accuracy_train)\n",
    "\n",
    "# accuracy of 100% on training set shows that the model is overfitting\n",
    "# this might be due to the reduction of data points due to heavy computation\n"
   ]
  },
  {
   "cell_type": "code",
   "execution_count": 39,
   "id": "f3d59b7b",
   "metadata": {},
   "outputs": [
    {
     "name": "stdout",
     "output_type": "stream",
     "text": [
      "Accuracy of SVC on mnist test data using rbf kernel, best parameters from GridSearchCV and only the support vectors:  93.7\n"
     ]
    }
   ],
   "source": [
    "# accuracy of model\n",
    "\n",
    "accuracy_test = accuracy_score(y_test,y_pred_new)*100\n",
    "print(\"Accuracy of SVC on mnist test data using rbf kernel, best parameters from GridSearchCV and only the support vectors: \"\n",
    "      , round(accuracy_test,1))\n"
   ]
  },
  {
   "cell_type": "markdown",
   "id": "7338245d",
   "metadata": {},
   "source": [
    "The accuracy using only support vectors as train set is exactly the same as using the entire train set (i.e. the X_train_pca train set). This is so because for an entire dataset its the support vectors which help in determining the best hyperplane in SVM which have the minimum fuctional margin from these support vectors. In SVM we always maximize the minimum functional margin hence support vectors become the deciding factors. Thus other instances wont play a part in deciding the hyperplane as long as the support vectors are in their place. Hence even with or without the other instances we got the same accuracy."
   ]
  },
  {
   "cell_type": "code",
   "execution_count": null,
   "id": "361d7b38",
   "metadata": {},
   "outputs": [],
   "source": []
  }
 ],
 "metadata": {
  "kernelspec": {
   "display_name": "Python 3.x",
   "language": "python",
   "name": "python3"
  },
  "language_info": {
   "codemirror_mode": {
    "name": "ipython",
    "version": 3
   },
   "file_extension": ".py",
   "mimetype": "text/x-python",
   "name": "python",
   "nbconvert_exporter": "python",
   "pygments_lexer": "ipython3",
   "version": "3"
  },
  "vscode": {
   "interpreter": {
    "hash": "31f2aee4e71d21fbe5cf8b01ff0e069b9275f58929596ceb00d14d90e3e16cd6"
   }
  }
 },
 "nbformat": 4,
 "nbformat_minor": 5
}

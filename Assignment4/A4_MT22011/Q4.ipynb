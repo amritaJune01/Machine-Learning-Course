{
 "cells": [
  {
   "cell_type": "markdown",
   "id": "86257838",
   "metadata": {},
   "source": [
    "### Loading the dataset"
   ]
  },
  {
   "cell_type": "code",
   "execution_count": 1,
   "id": "253648e6",
   "metadata": {},
   "outputs": [],
   "source": [
    "# importing libraries\n",
    "import pandas as pd\n",
    "import numpy as np\n",
    "import matplotlib.pyplot as plt\n",
    "import seaborn as sns\n",
    "from sklearn.preprocessing import StandardScaler\n",
    "from sklearn.decomposition import PCA\n",
    "from sklearn.cluster import KMeans\n",
    "from sklearn.preprocessing import LabelEncoder"
   ]
  },
  {
   "cell_type": "code",
   "execution_count": 2,
   "id": "1e20fc8e",
   "metadata": {},
   "outputs": [],
   "source": [
    "# loading the dataset\n",
    "df = pd.read_excel(\"~/Desktop/OnlineRetail.xlsx\")"
   ]
  },
  {
   "cell_type": "code",
   "execution_count": 3,
   "id": "9850c66f",
   "metadata": {},
   "outputs": [
    {
     "data": {
      "text/html": [
       "<div>\n",
       "<style scoped>\n",
       "    .dataframe tbody tr th:only-of-type {\n",
       "        vertical-align: middle;\n",
       "    }\n",
       "\n",
       "    .dataframe tbody tr th {\n",
       "        vertical-align: top;\n",
       "    }\n",
       "\n",
       "    .dataframe thead th {\n",
       "        text-align: right;\n",
       "    }\n",
       "</style>\n",
       "<table border=\"1\" class=\"dataframe\">\n",
       "  <thead>\n",
       "    <tr style=\"text-align: right;\">\n",
       "      <th></th>\n",
       "      <th>InvoiceNo</th>\n",
       "      <th>StockCode</th>\n",
       "      <th>Description</th>\n",
       "      <th>Quantity</th>\n",
       "      <th>InvoiceDate</th>\n",
       "      <th>UnitPrice</th>\n",
       "      <th>CustomerID</th>\n",
       "      <th>Country</th>\n",
       "    </tr>\n",
       "  </thead>\n",
       "  <tbody>\n",
       "    <tr>\n",
       "      <th>0</th>\n",
       "      <td>536365</td>\n",
       "      <td>85123A</td>\n",
       "      <td>WHITE HANGING HEART T-LIGHT HOLDER</td>\n",
       "      <td>6</td>\n",
       "      <td>2010-12-01 08:26:00</td>\n",
       "      <td>2.55</td>\n",
       "      <td>17850.0</td>\n",
       "      <td>United Kingdom</td>\n",
       "    </tr>\n",
       "    <tr>\n",
       "      <th>1</th>\n",
       "      <td>536365</td>\n",
       "      <td>71053</td>\n",
       "      <td>WHITE METAL LANTERN</td>\n",
       "      <td>6</td>\n",
       "      <td>2010-12-01 08:26:00</td>\n",
       "      <td>3.39</td>\n",
       "      <td>17850.0</td>\n",
       "      <td>United Kingdom</td>\n",
       "    </tr>\n",
       "    <tr>\n",
       "      <th>2</th>\n",
       "      <td>536365</td>\n",
       "      <td>84406B</td>\n",
       "      <td>CREAM CUPID HEARTS COAT HANGER</td>\n",
       "      <td>8</td>\n",
       "      <td>2010-12-01 08:26:00</td>\n",
       "      <td>2.75</td>\n",
       "      <td>17850.0</td>\n",
       "      <td>United Kingdom</td>\n",
       "    </tr>\n",
       "    <tr>\n",
       "      <th>3</th>\n",
       "      <td>536365</td>\n",
       "      <td>84029G</td>\n",
       "      <td>KNITTED UNION FLAG HOT WATER BOTTLE</td>\n",
       "      <td>6</td>\n",
       "      <td>2010-12-01 08:26:00</td>\n",
       "      <td>3.39</td>\n",
       "      <td>17850.0</td>\n",
       "      <td>United Kingdom</td>\n",
       "    </tr>\n",
       "    <tr>\n",
       "      <th>4</th>\n",
       "      <td>536365</td>\n",
       "      <td>84029E</td>\n",
       "      <td>RED WOOLLY HOTTIE WHITE HEART.</td>\n",
       "      <td>6</td>\n",
       "      <td>2010-12-01 08:26:00</td>\n",
       "      <td>3.39</td>\n",
       "      <td>17850.0</td>\n",
       "      <td>United Kingdom</td>\n",
       "    </tr>\n",
       "  </tbody>\n",
       "</table>\n",
       "</div>"
      ],
      "text/plain": [
       "  InvoiceNo StockCode                          Description  Quantity  \\\n",
       "0    536365    85123A   WHITE HANGING HEART T-LIGHT HOLDER         6   \n",
       "1    536365     71053                  WHITE METAL LANTERN         6   \n",
       "2    536365    84406B       CREAM CUPID HEARTS COAT HANGER         8   \n",
       "3    536365    84029G  KNITTED UNION FLAG HOT WATER BOTTLE         6   \n",
       "4    536365    84029E       RED WOOLLY HOTTIE WHITE HEART.         6   \n",
       "\n",
       "          InvoiceDate  UnitPrice  CustomerID         Country  \n",
       "0 2010-12-01 08:26:00       2.55     17850.0  United Kingdom  \n",
       "1 2010-12-01 08:26:00       3.39     17850.0  United Kingdom  \n",
       "2 2010-12-01 08:26:00       2.75     17850.0  United Kingdom  \n",
       "3 2010-12-01 08:26:00       3.39     17850.0  United Kingdom  \n",
       "4 2010-12-01 08:26:00       3.39     17850.0  United Kingdom  "
      ]
     },
     "execution_count": 3,
     "metadata": {},
     "output_type": "execute_result"
    }
   ],
   "source": [
    "# visualizing the dataset\n",
    "df.head()"
   ]
  },
  {
   "cell_type": "code",
   "execution_count": 4,
   "id": "528af05f",
   "metadata": {},
   "outputs": [
    {
     "data": {
      "text/plain": [
       "(541909, 8)"
      ]
     },
     "execution_count": 4,
     "metadata": {},
     "output_type": "execute_result"
    }
   ],
   "source": [
    "# checking shape\n",
    "df.shape"
   ]
  },
  {
   "cell_type": "markdown",
   "id": "6e85aeaa",
   "metadata": {},
   "source": [
    "### Pre - processing the dataset & exploring the dataset"
   ]
  },
  {
   "cell_type": "code",
   "execution_count": 5,
   "id": "aa63d8b6",
   "metadata": {},
   "outputs": [
    {
     "name": "stdout",
     "output_type": "stream",
     "text": [
      "<class 'pandas.core.frame.DataFrame'>\n",
      "RangeIndex: 541909 entries, 0 to 541908\n",
      "Data columns (total 8 columns):\n",
      " #   Column       Non-Null Count   Dtype         \n",
      "---  ------       --------------   -----         \n",
      " 0   InvoiceNo    541909 non-null  object        \n",
      " 1   StockCode    541909 non-null  object        \n",
      " 2   Description  540455 non-null  object        \n",
      " 3   Quantity     541909 non-null  int64         \n",
      " 4   InvoiceDate  541909 non-null  datetime64[ns]\n",
      " 5   UnitPrice    541909 non-null  float64       \n",
      " 6   CustomerID   406829 non-null  float64       \n",
      " 7   Country      541909 non-null  object        \n",
      "dtypes: datetime64[ns](1), float64(2), int64(1), object(4)\n",
      "memory usage: 33.1+ MB\n"
     ]
    }
   ],
   "source": [
    "# checking null values & datatypes\n",
    "df.info()\n",
    "# data contains null values"
   ]
  },
  {
   "cell_type": "code",
   "execution_count": 6,
   "id": "415e0bcc",
   "metadata": {},
   "outputs": [
    {
     "data": {
      "text/plain": [
       "<AxesSubplot:title={'center':'Count of Null values in all features of the Dataset\\n\\n\\n'}>"
      ]
     },
     "execution_count": 6,
     "metadata": {},
     "output_type": "execute_result"
    },
    {
     "data": {
      "image/png": "[encoded data removed]",
      "text/plain": [
       "<Figure size 720x432 with 1 Axes>"
      ]
     },
     "metadata": {
      "needs_background": "light"
     },
     "output_type": "display_data"
    }
   ],
   "source": [
    "# checking null values\n",
    "listCols = df.isnull().sum() \n",
    "\n",
    "plt.figure(figsize=(10, 6))\n",
    "plt.xticks(rotation = 50)\n",
    "plt.title(\"Count of Null values in all features of the Dataset\\n\\n\\n\")\n",
    "sns.barplot(x = listCols.index, y = listCols.values)"
   ]
  },
  {
   "cell_type": "code",
   "execution_count": 7,
   "id": "29c998e4",
   "metadata": {},
   "outputs": [],
   "source": [
    "# removing rows where customer id is null\n",
    "df = df[df['CustomerID'].notna()]"
   ]
  },
  {
   "cell_type": "code",
   "execution_count": 8,
   "id": "334b4be8",
   "metadata": {},
   "outputs": [],
   "source": [
    "# changing dtatypes\n",
    "df['InvoiceDate'] = pd.to_datetime(df['InvoiceDate'])\n",
    "df['CustomerID'] = df['CustomerID'].astype(np.int64)\n",
    "df['Country'] = df['Country'] .astype(str)"
   ]
  },
  {
   "cell_type": "code",
   "execution_count": 9,
   "id": "03ecfedd",
   "metadata": {},
   "outputs": [],
   "source": [
    "# adding total price as a new column\n",
    "df['TotalPrice'] = df['Quantity'] * df['UnitPrice']"
   ]
  },
  {
   "cell_type": "code",
   "execution_count": 10,
   "id": "95ec5788",
   "metadata": {},
   "outputs": [],
   "source": [
    "# adding 3 new columns from invoice date\n",
    "df['InvoiceDate'] = df['InvoiceDate'].dt.date\n",
    "\n",
    "df['InvoiceYear'] = pd.DatetimeIndex(df['InvoiceDate']).year\n",
    "df['InvoiceMonth'] = pd.DatetimeIndex(df['InvoiceDate']).month\n",
    "df['InvoiceDay'] = pd.DatetimeIndex(df['InvoiceDate']).day"
   ]
  },
  {
   "cell_type": "code",
   "execution_count": 11,
   "id": "ea0c4737",
   "metadata": {},
   "outputs": [],
   "source": [
    "# dropping invoice date\n",
    "df.drop(['InvoiceDate'],inplace = True, axis = 1)"
   ]
  },
  {
   "cell_type": "code",
   "execution_count": 12,
   "id": "58148ba4",
   "metadata": {},
   "outputs": [
    {
     "name": "stderr",
     "output_type": "stream",
     "text": [
      "/Users/amritaaash/opt/anaconda3/lib/python3.7/site-packages/ipykernel_launcher.py:4: FutureWarning: Indexing with multiple keys (implicitly converted to a tuple of keys) will be deprecated, use a list instead.\n",
      "  after removing the cwd from sys.path.\n"
     ]
    },
    {
     "data": {
      "text/html": [
       "<div>\n",
       "<style scoped>\n",
       "    .dataframe tbody tr th:only-of-type {\n",
       "        vertical-align: middle;\n",
       "    }\n",
       "\n",
       "    .dataframe tbody tr th {\n",
       "        vertical-align: top;\n",
       "    }\n",
       "\n",
       "    .dataframe thead th {\n",
       "        text-align: right;\n",
       "    }\n",
       "</style>\n",
       "<table border=\"1\" class=\"dataframe\">\n",
       "  <thead>\n",
       "    <tr style=\"text-align: right;\">\n",
       "      <th></th>\n",
       "      <th>UnitPrice</th>\n",
       "      <th>Description</th>\n",
       "    </tr>\n",
       "    <tr>\n",
       "      <th>Country</th>\n",
       "      <th></th>\n",
       "      <th></th>\n",
       "    </tr>\n",
       "  </thead>\n",
       "  <tbody>\n",
       "    <tr>\n",
       "      <th>United Kingdom</th>\n",
       "      <td>38970.00</td>\n",
       "      <td>ZINC WIRE SWEETHEART LETTER TRAY</td>\n",
       "    </tr>\n",
       "    <tr>\n",
       "      <th>France</th>\n",
       "      <td>4161.06</td>\n",
       "      <td>ZINC T-LIGHT HOLDER STARS SMALL</td>\n",
       "    </tr>\n",
       "    <tr>\n",
       "      <th>Singapore</th>\n",
       "      <td>3949.32</td>\n",
       "      <td>ZINC FOLKART SLEIGH BELLS</td>\n",
       "    </tr>\n",
       "    <tr>\n",
       "      <th>Spain</th>\n",
       "      <td>1715.85</td>\n",
       "      <td>ZINC T-LIGHT HOLDER STARS SMALL</td>\n",
       "    </tr>\n",
       "    <tr>\n",
       "      <th>EIRE</th>\n",
       "      <td>1687.17</td>\n",
       "      <td>ZINC WIRE SWEETHEART LETTER TRAY</td>\n",
       "    </tr>\n",
       "    <tr>\n",
       "      <th>Portugal</th>\n",
       "      <td>1241.98</td>\n",
       "      <td>ZINC WIRE KITCHEN ORGANISER</td>\n",
       "    </tr>\n",
       "    <tr>\n",
       "      <th>Norway</th>\n",
       "      <td>700.00</td>\n",
       "      <td>ZINC WILLIE WINKIE  CANDLE STICK</td>\n",
       "    </tr>\n",
       "    <tr>\n",
       "      <th>Germany</th>\n",
       "      <td>599.50</td>\n",
       "      <td>ZINC WILLIE WINKIE  CANDLE STICK</td>\n",
       "    </tr>\n",
       "    <tr>\n",
       "      <th>Canada</th>\n",
       "      <td>550.94</td>\n",
       "      <td>YELLOW COAT RACK PARIS FASHION</td>\n",
       "    </tr>\n",
       "    <tr>\n",
       "      <th>Australia</th>\n",
       "      <td>350.00</td>\n",
       "      <td>YELLOW GIANT GARDEN THERMOMETER</td>\n",
       "    </tr>\n",
       "  </tbody>\n",
       "</table>\n",
       "</div>"
      ],
      "text/plain": [
       "                UnitPrice                       Description\n",
       "Country                                                    \n",
       "United Kingdom   38970.00  ZINC WIRE SWEETHEART LETTER TRAY\n",
       "France            4161.06   ZINC T-LIGHT HOLDER STARS SMALL\n",
       "Singapore         3949.32         ZINC FOLKART SLEIGH BELLS\n",
       "Spain             1715.85   ZINC T-LIGHT HOLDER STARS SMALL\n",
       "EIRE              1687.17  ZINC WIRE SWEETHEART LETTER TRAY\n",
       "Portugal          1241.98       ZINC WIRE KITCHEN ORGANISER\n",
       "Norway             700.00  ZINC WILLIE WINKIE  CANDLE STICK\n",
       "Germany            599.50  ZINC WILLIE WINKIE  CANDLE STICK\n",
       "Canada             550.94    YELLOW COAT RACK PARIS FASHION\n",
       "Australia          350.00   YELLOW GIANT GARDEN THERMOMETER"
      ]
     },
     "execution_count": 12,
     "metadata": {},
     "output_type": "execute_result"
    }
   ],
   "source": [
    "maxPrice = df['UnitPrice'].max() # finding maximum unit price\n",
    "df[df['UnitPrice'] == maxPrice]\n",
    "\n",
    "df1 = df.groupby(by=\"Country\")['UnitPrice','Description'].max().sort_values('UnitPrice', ascending = False).iloc[0:10:]\n",
    "df1 # top 10 items with highest unit price\n"
   ]
  },
  {
   "cell_type": "code",
   "execution_count": 13,
   "id": "23994642",
   "metadata": {},
   "outputs": [
    {
     "name": "stderr",
     "output_type": "stream",
     "text": [
      "/Users/amritaaash/opt/anaconda3/lib/python3.7/site-packages/ipykernel_launcher.py:4: FutureWarning: Indexing with multiple keys (implicitly converted to a tuple of keys) will be deprecated, use a list instead.\n",
      "  after removing the cwd from sys.path.\n"
     ]
    },
    {
     "data": {
      "text/html": [
       "<div>\n",
       "<style scoped>\n",
       "    .dataframe tbody tr th:only-of-type {\n",
       "        vertical-align: middle;\n",
       "    }\n",
       "\n",
       "    .dataframe tbody tr th {\n",
       "        vertical-align: top;\n",
       "    }\n",
       "\n",
       "    .dataframe thead th {\n",
       "        text-align: right;\n",
       "    }\n",
       "</style>\n",
       "<table border=\"1\" class=\"dataframe\">\n",
       "  <thead>\n",
       "    <tr style=\"text-align: right;\">\n",
       "      <th></th>\n",
       "      <th>UnitPrice</th>\n",
       "      <th>Description</th>\n",
       "    </tr>\n",
       "    <tr>\n",
       "      <th>Country</th>\n",
       "      <th></th>\n",
       "      <th></th>\n",
       "    </tr>\n",
       "  </thead>\n",
       "  <tbody>\n",
       "    <tr>\n",
       "      <th>Bahrain</th>\n",
       "      <td>1.25</td>\n",
       "      <td>CERAMIC CAKE BOWL + HANGING CAKES</td>\n",
       "    </tr>\n",
       "    <tr>\n",
       "      <th>Lithuania</th>\n",
       "      <td>1.25</td>\n",
       "      <td>BLUE FELT EASTER EGG BASKET</td>\n",
       "    </tr>\n",
       "    <tr>\n",
       "      <th>Brazil</th>\n",
       "      <td>0.85</td>\n",
       "      <td>CLOCK MAGNET MUM'S KITCHEN</td>\n",
       "    </tr>\n",
       "    <tr>\n",
       "      <th>Lebanon</th>\n",
       "      <td>0.55</td>\n",
       "      <td>12 EGG HOUSE PAINTED WOOD</td>\n",
       "    </tr>\n",
       "    <tr>\n",
       "      <th>European Community</th>\n",
       "      <td>0.55</td>\n",
       "      <td>3 TIER CAKE TIN GREEN AND CREAM</td>\n",
       "    </tr>\n",
       "    <tr>\n",
       "      <th>USA</th>\n",
       "      <td>0.42</td>\n",
       "      <td>SET 2 TEA TOWELS I LOVE LONDON</td>\n",
       "    </tr>\n",
       "    <tr>\n",
       "      <th>Saudi Arabia</th>\n",
       "      <td>0.42</td>\n",
       "      <td>ASSORTED BOTTLE TOP  MAGNETS</td>\n",
       "    </tr>\n",
       "    <tr>\n",
       "      <th>United Arab Emirates</th>\n",
       "      <td>0.29</td>\n",
       "      <td>SPACEBOY BABY GIFT SET</td>\n",
       "    </tr>\n",
       "    <tr>\n",
       "      <th>Czech Republic</th>\n",
       "      <td>0.29</td>\n",
       "      <td>12 PENCILS SMALL TUBE RED RETROSPOT</td>\n",
       "    </tr>\n",
       "    <tr>\n",
       "      <th>Iceland</th>\n",
       "      <td>0.25</td>\n",
       "      <td>3D DOG PICTURE PLAYING CARDS</td>\n",
       "    </tr>\n",
       "  </tbody>\n",
       "</table>\n",
       "</div>"
      ],
      "text/plain": [
       "                      UnitPrice                          Description\n",
       "Country                                                             \n",
       "Bahrain                    1.25    CERAMIC CAKE BOWL + HANGING CAKES\n",
       "Lithuania                  1.25          BLUE FELT EASTER EGG BASKET\n",
       "Brazil                     0.85           CLOCK MAGNET MUM'S KITCHEN\n",
       "Lebanon                    0.55            12 EGG HOUSE PAINTED WOOD\n",
       "European Community         0.55      3 TIER CAKE TIN GREEN AND CREAM\n",
       "USA                        0.42      SET 2 TEA TOWELS I LOVE LONDON \n",
       "Saudi Arabia               0.42        ASSORTED BOTTLE TOP  MAGNETS \n",
       "United Arab Emirates       0.29               SPACEBOY BABY GIFT SET\n",
       "Czech Republic             0.29  12 PENCILS SMALL TUBE RED RETROSPOT\n",
       "Iceland                    0.25         3D DOG PICTURE PLAYING CARDS"
      ]
     },
     "execution_count": 13,
     "metadata": {},
     "output_type": "execute_result"
    }
   ],
   "source": [
    "minPrice = df['UnitPrice'].min() # finding minimum unit price\n",
    "df[df['UnitPrice'] == minPrice]\n",
    "\n",
    "df1 = df.groupby(by=\"Country\")['UnitPrice','Description'].min().sort_values('UnitPrice', ascending = False).head(10)\n",
    "df1 # top 10 items with lowest unit price\n"
   ]
  },
  {
   "cell_type": "code",
   "execution_count": 14,
   "id": "1e253077",
   "metadata": {},
   "outputs": [
    {
     "name": "stderr",
     "output_type": "stream",
     "text": [
      "/Users/amritaaash/opt/anaconda3/lib/python3.7/site-packages/ipykernel_launcher.py:1: FutureWarning: Indexing with multiple keys (implicitly converted to a tuple of keys) will be deprecated, use a list instead.\n",
      "  \"\"\"Entry point for launching an IPython kernel.\n"
     ]
    },
    {
     "data": {
      "text/plain": [
       "<AxesSubplot:title={'center':'Top 10 best selling products\\n\\n\\n'}, xlabel='Description', ylabel='Quantity'>"
      ]
     },
     "execution_count": 14,
     "metadata": {},
     "output_type": "execute_result"
    },
    {
     "data": {
      "image/png": "[encoded data removed]",
      "text/plain": [
       "<Figure size 720x432 with 1 Axes>"
      ]
     },
     "metadata": {
      "needs_background": "light"
     },
     "output_type": "display_data"
    }
   ],
   "source": [
    "df1 = df.groupby(by=\"Country\")['Quantity','Description'].min().sort_values('Quantity', ascending=False).iloc[0:10:]\n",
    "\n",
    "plt.figure(figsize=(10, 6))\n",
    "plt.xticks(rotation = 50)\n",
    "plt.title(\"Top 10 best selling products\\n\\n\\n\")\n",
    "sns.barplot(x= df1['Description'], y = df1['Quantity'])\n",
    "\n",
    "# we see few quantities have negative quantity\n"
   ]
  },
  {
   "cell_type": "code",
   "execution_count": 15,
   "id": "24a9c6a3",
   "metadata": {},
   "outputs": [],
   "source": [
    "# removing the rows with negative quantity\n",
    "df = df[df.Quantity >= 0]"
   ]
  },
  {
   "cell_type": "code",
   "execution_count": 16,
   "id": "85925968",
   "metadata": {},
   "outputs": [],
   "source": [
    "# dropping 3 columns\n",
    "df.drop(['InvoiceNo'],inplace = True,axis = 1)\n",
    "df.drop(['StockCode'],inplace = True, axis = 1)\n",
    "df.drop(['Description'],inplace = True, axis = 1)"
   ]
  },
  {
   "cell_type": "code",
   "execution_count": 17,
   "id": "e527ed08",
   "metadata": {},
   "outputs": [],
   "source": [
    "# label encoding country\n",
    "encode = LabelEncoder()\n",
    "df['Country'] = encode.fit_transform(df['Country'])"
   ]
  },
  {
   "cell_type": "code",
   "execution_count": 18,
   "id": "7f9c5f26",
   "metadata": {},
   "outputs": [
    {
     "data": {
      "text/html": [
       "<div>\n",
       "<style scoped>\n",
       "    .dataframe tbody tr th:only-of-type {\n",
       "        vertical-align: middle;\n",
       "    }\n",
       "\n",
       "    .dataframe tbody tr th {\n",
       "        vertical-align: top;\n",
       "    }\n",
       "\n",
       "    .dataframe thead th {\n",
       "        text-align: right;\n",
       "    }\n",
       "</style>\n",
       "<table border=\"1\" class=\"dataframe\">\n",
       "  <thead>\n",
       "    <tr style=\"text-align: right;\">\n",
       "      <th></th>\n",
       "      <th>Quantity</th>\n",
       "      <th>UnitPrice</th>\n",
       "      <th>CustomerID</th>\n",
       "      <th>Country</th>\n",
       "      <th>TotalPrice</th>\n",
       "      <th>InvoiceYear</th>\n",
       "      <th>InvoiceMonth</th>\n",
       "      <th>InvoiceDay</th>\n",
       "    </tr>\n",
       "  </thead>\n",
       "  <tbody>\n",
       "    <tr>\n",
       "      <th>0</th>\n",
       "      <td>6</td>\n",
       "      <td>2.55</td>\n",
       "      <td>17850</td>\n",
       "      <td>35</td>\n",
       "      <td>15.30</td>\n",
       "      <td>2010</td>\n",
       "      <td>12</td>\n",
       "      <td>1</td>\n",
       "    </tr>\n",
       "    <tr>\n",
       "      <th>1</th>\n",
       "      <td>6</td>\n",
       "      <td>3.39</td>\n",
       "      <td>17850</td>\n",
       "      <td>35</td>\n",
       "      <td>20.34</td>\n",
       "      <td>2010</td>\n",
       "      <td>12</td>\n",
       "      <td>1</td>\n",
       "    </tr>\n",
       "    <tr>\n",
       "      <th>2</th>\n",
       "      <td>8</td>\n",
       "      <td>2.75</td>\n",
       "      <td>17850</td>\n",
       "      <td>35</td>\n",
       "      <td>22.00</td>\n",
       "      <td>2010</td>\n",
       "      <td>12</td>\n",
       "      <td>1</td>\n",
       "    </tr>\n",
       "    <tr>\n",
       "      <th>3</th>\n",
       "      <td>6</td>\n",
       "      <td>3.39</td>\n",
       "      <td>17850</td>\n",
       "      <td>35</td>\n",
       "      <td>20.34</td>\n",
       "      <td>2010</td>\n",
       "      <td>12</td>\n",
       "      <td>1</td>\n",
       "    </tr>\n",
       "    <tr>\n",
       "      <th>4</th>\n",
       "      <td>6</td>\n",
       "      <td>3.39</td>\n",
       "      <td>17850</td>\n",
       "      <td>35</td>\n",
       "      <td>20.34</td>\n",
       "      <td>2010</td>\n",
       "      <td>12</td>\n",
       "      <td>1</td>\n",
       "    </tr>\n",
       "  </tbody>\n",
       "</table>\n",
       "</div>"
      ],
      "text/plain": [
       "   Quantity  UnitPrice  CustomerID  Country  TotalPrice  InvoiceYear  \\\n",
       "0         6       2.55       17850       35       15.30         2010   \n",
       "1         6       3.39       17850       35       20.34         2010   \n",
       "2         8       2.75       17850       35       22.00         2010   \n",
       "3         6       3.39       17850       35       20.34         2010   \n",
       "4         6       3.39       17850       35       20.34         2010   \n",
       "\n",
       "   InvoiceMonth  InvoiceDay  \n",
       "0            12           1  \n",
       "1            12           1  \n",
       "2            12           1  \n",
       "3            12           1  \n",
       "4            12           1  "
      ]
     },
     "execution_count": 18,
     "metadata": {},
     "output_type": "execute_result"
    }
   ],
   "source": [
    "df.head()"
   ]
  },
  {
   "cell_type": "code",
   "execution_count": 19,
   "id": "f7337a0b",
   "metadata": {},
   "outputs": [],
   "source": [
    "# scalling the data\n",
    "df_scaled = StandardScaler().fit_transform(df)"
   ]
  },
  {
   "cell_type": "markdown",
   "id": "6cfad273",
   "metadata": {},
   "source": [
    "### Performing PCA"
   ]
  },
  {
   "cell_type": "code",
   "execution_count": 20,
   "id": "cced6a42",
   "metadata": {},
   "outputs": [],
   "source": [
    "# performing pca to retain 85% of the explained variance\n",
    "pca = PCA(n_components = 0.85)\n",
    "pcaData = pca.fit_transform(df_scaled)"
   ]
  },
  {
   "cell_type": "code",
   "execution_count": 21,
   "id": "8825b264",
   "metadata": {},
   "outputs": [
    {
     "data": {
      "text/plain": [
       "(397924, 6)"
      ]
     },
     "execution_count": 21,
     "metadata": {},
     "output_type": "execute_result"
    }
   ],
   "source": [
    "pcaData.shape # 6 features were retained by pca"
   ]
  },
  {
   "cell_type": "code",
   "execution_count": 22,
   "id": "88d7f776",
   "metadata": {},
   "outputs": [
    {
     "data": {
      "text/plain": [
       "Text(0, 0.5, 'Explained variance (%)')"
      ]
     },
     "execution_count": 22,
     "metadata": {},
     "output_type": "execute_result"
    },
    {
     "data": {
      "image/png": "[encoded data removed]",
      "text/plain": [
       "<Figure size 432x288 with 1 Axes>"
      ]
     },
     "metadata": {
      "needs_background": "light"
     },
     "output_type": "display_data"
    }
   ],
   "source": [
    "# plotting a scree plot\n",
    "\n",
    "components = len(pca.explained_variance_ratio_)\n",
    "\n",
    "plt.plot(range(1,components+1), \n",
    "         np.cumsum(pca.explained_variance_ratio_ * 100))\n",
    "\n",
    "plt.xlabel(\"Number of components\")\n",
    "plt.ylabel(\"Explained variance (%)\")\n",
    "\n",
    "# approx 6 features explain 85% of variance"
   ]
  },
  {
   "cell_type": "markdown",
   "id": "b70a1574",
   "metadata": {},
   "source": [
    "### Determoning optimum number of clusters"
   ]
  },
  {
   "cell_type": "code",
   "execution_count": 23,
   "id": "c9f500ce",
   "metadata": {},
   "outputs": [
    {
     "name": "stderr",
     "output_type": "stream",
     "text": [
      "/Users/amritaaash/opt/anaconda3/lib/python3.7/site-packages/seaborn/_decorators.py:43: FutureWarning: Pass the following variables as keyword args: x, y. From version 0.12, the only valid positional argument will be `data`, and passing other arguments without an explicit keyword will result in an error or misinterpretation.\n",
      "  FutureWarning\n"
     ]
    },
    {
     "data": {
      "image/png": "[encoded data removed]",
      "text/plain": [
       "<Figure size 720x720 with 1 Axes>"
      ]
     },
     "metadata": {
      "needs_background": "light"
     },
     "output_type": "display_data"
    }
   ],
   "source": [
    "# determining the optimum number of clusters\n",
    "temp = []\n",
    "\n",
    "for i in range(1,20):\n",
    "    kmeans = KMeans(n_clusters = i)\n",
    "    kmeans.fit_predict(pcaData)\n",
    "    temp.append(kmeans.inertia_)\n",
    "\n",
    "plt.figure(figsize=(10, 10))\n",
    "sns.lineplot(range(1,20), temp, marker = 'o')\n",
    "plt.title('Elbow method')\n",
    "plt.xlabel('Number of clusters')\n",
    "plt.ylabel('WCSS')\n",
    "plt.show()"
   ]
  },
  {
   "cell_type": "code",
   "execution_count": 24,
   "id": "b62da536",
   "metadata": {},
   "outputs": [],
   "source": [
    "# kmeans model for 7 clusters\n",
    "kmeans = KMeans(n_clusters = 7)\n",
    "label = kmeans.fit_predict(pcaData)"
   ]
  },
  {
   "cell_type": "markdown",
   "id": "6085251b",
   "metadata": {},
   "source": [
    "### Visualizing the number of clusters"
   ]
  },
  {
   "cell_type": "code",
   "execution_count": 25,
   "id": "76540c4a",
   "metadata": {},
   "outputs": [
    {
     "name": "stderr",
     "output_type": "stream",
     "text": [
      "/Users/amritaaash/opt/anaconda3/lib/python3.7/site-packages/seaborn/_decorators.py:43: FutureWarning: Pass the following variables as keyword args: x, y. From version 0.12, the only valid positional argument will be `data`, and passing other arguments without an explicit keyword will result in an error or misinterpretation.\n",
      "  FutureWarning\n",
      "/Users/amritaaash/opt/anaconda3/lib/python3.7/site-packages/seaborn/_decorators.py:43: FutureWarning: Pass the following variables as keyword args: x, y. From version 0.12, the only valid positional argument will be `data`, and passing other arguments without an explicit keyword will result in an error or misinterpretation.\n",
      "  FutureWarning\n",
      "/Users/amritaaash/opt/anaconda3/lib/python3.7/site-packages/seaborn/_decorators.py:43: FutureWarning: Pass the following variables as keyword args: x, y. From version 0.12, the only valid positional argument will be `data`, and passing other arguments without an explicit keyword will result in an error or misinterpretation.\n",
      "  FutureWarning\n",
      "/Users/amritaaash/opt/anaconda3/lib/python3.7/site-packages/seaborn/_decorators.py:43: FutureWarning: Pass the following variables as keyword args: x, y. From version 0.12, the only valid positional argument will be `data`, and passing other arguments without an explicit keyword will result in an error or misinterpretation.\n",
      "  FutureWarning\n",
      "/Users/amritaaash/opt/anaconda3/lib/python3.7/site-packages/seaborn/_decorators.py:43: FutureWarning: Pass the following variables as keyword args: x, y. From version 0.12, the only valid positional argument will be `data`, and passing other arguments without an explicit keyword will result in an error or misinterpretation.\n",
      "  FutureWarning\n",
      "/Users/amritaaash/opt/anaconda3/lib/python3.7/site-packages/seaborn/_decorators.py:43: FutureWarning: Pass the following variables as keyword args: x, y. From version 0.12, the only valid positional argument will be `data`, and passing other arguments without an explicit keyword will result in an error or misinterpretation.\n",
      "  FutureWarning\n",
      "/Users/amritaaash/opt/anaconda3/lib/python3.7/site-packages/seaborn/_decorators.py:43: FutureWarning: Pass the following variables as keyword args: x, y. From version 0.12, the only valid positional argument will be `data`, and passing other arguments without an explicit keyword will result in an error or misinterpretation.\n",
      "  FutureWarning\n"
     ]
    },
    {
     "data": {
      "image/png": "[encoded data removed]",
      "text/plain": [
       "<Figure size 1440x720 with 1 Axes>"
      ]
     },
     "metadata": {
      "needs_background": "light"
     },
     "output_type": "display_data"
    }
   ],
   "source": [
    "plt.figure(figsize=(20, 10))\n",
    "\n",
    "u_labels = np.unique(label) # unique labels\n",
    "\n",
    "# visualizing the clusters:\n",
    "for i in u_labels:\n",
    "    sns.scatterplot(pcaData[label == i , 0] , pcaData[label == i , 1] , label = i)\n",
    "    \n",
    "plt.legend()\n",
    "plt.show()\n"
   ]
  },
  {
   "cell_type": "markdown",
   "id": "e492f7a3",
   "metadata": {},
   "source": [
    "### Visualizing clusters with respect to 2 PCA components"
   ]
  },
  {
   "cell_type": "code",
   "execution_count": 26,
   "id": "8dea3a27",
   "metadata": {},
   "outputs": [],
   "source": [
    "# calculating resulting components scores\n",
    "scores_pca = pca.transform(df_scaled)"
   ]
  },
  {
   "cell_type": "code",
   "execution_count": 38,
   "id": "feee6157",
   "metadata": {},
   "outputs": [
    {
     "data": {
      "text/html": [
       "<div>\n",
       "<style scoped>\n",
       "    .dataframe tbody tr th:only-of-type {\n",
       "        vertical-align: middle;\n",
       "    }\n",
       "\n",
       "    .dataframe tbody tr th {\n",
       "        vertical-align: top;\n",
       "    }\n",
       "\n",
       "    .dataframe thead th {\n",
       "        text-align: right;\n",
       "    }\n",
       "</style>\n",
       "<table border=\"1\" class=\"dataframe\">\n",
       "  <thead>\n",
       "    <tr style=\"text-align: right;\">\n",
       "      <th></th>\n",
       "      <th>Quantity</th>\n",
       "      <th>UnitPrice</th>\n",
       "      <th>CustomerID</th>\n",
       "      <th>Country</th>\n",
       "      <th>TotalPrice</th>\n",
       "      <th>InvoiceYear</th>\n",
       "      <th>InvoiceMonth</th>\n",
       "      <th>InvoiceDay</th>\n",
       "      <th>Component1</th>\n",
       "      <th>Component2</th>\n",
       "      <th>Component3</th>\n",
       "      <th>Component4</th>\n",
       "      <th>Component5</th>\n",
       "      <th>Component6</th>\n",
       "    </tr>\n",
       "  </thead>\n",
       "  <tbody>\n",
       "    <tr>\n",
       "      <th>0</th>\n",
       "      <td>6</td>\n",
       "      <td>2.55</td>\n",
       "      <td>17850</td>\n",
       "      <td>35</td>\n",
       "      <td>15.30</td>\n",
       "      <td>2010</td>\n",
       "      <td>12</td>\n",
       "      <td>1</td>\n",
       "      <td>-0.128842</td>\n",
       "      <td>4.033365</td>\n",
       "      <td>-1.054585</td>\n",
       "      <td>0.062815</td>\n",
       "      <td>-0.206687</td>\n",
       "      <td>-1.756525</td>\n",
       "    </tr>\n",
       "    <tr>\n",
       "      <th>1</th>\n",
       "      <td>6</td>\n",
       "      <td>3.39</td>\n",
       "      <td>17850</td>\n",
       "      <td>35</td>\n",
       "      <td>20.34</td>\n",
       "      <td>2010</td>\n",
       "      <td>12</td>\n",
       "      <td>1</td>\n",
       "      <td>-0.115016</td>\n",
       "      <td>4.032874</td>\n",
       "      <td>-1.055663</td>\n",
       "      <td>0.100717</td>\n",
       "      <td>-0.205788</td>\n",
       "      <td>-1.756073</td>\n",
       "    </tr>\n",
       "    <tr>\n",
       "      <th>2</th>\n",
       "      <td>8</td>\n",
       "      <td>2.75</td>\n",
       "      <td>17850</td>\n",
       "      <td>35</td>\n",
       "      <td>22.00</td>\n",
       "      <td>2010</td>\n",
       "      <td>12</td>\n",
       "      <td>1</td>\n",
       "      <td>-0.105173</td>\n",
       "      <td>4.033891</td>\n",
       "      <td>-1.054245</td>\n",
       "      <td>0.070953</td>\n",
       "      <td>-0.206429</td>\n",
       "      <td>-1.756373</td>\n",
       "    </tr>\n",
       "    <tr>\n",
       "      <th>3</th>\n",
       "      <td>6</td>\n",
       "      <td>3.39</td>\n",
       "      <td>17850</td>\n",
       "      <td>35</td>\n",
       "      <td>20.34</td>\n",
       "      <td>2010</td>\n",
       "      <td>12</td>\n",
       "      <td>1</td>\n",
       "      <td>-0.115016</td>\n",
       "      <td>4.032874</td>\n",
       "      <td>-1.055663</td>\n",
       "      <td>0.100717</td>\n",
       "      <td>-0.205788</td>\n",
       "      <td>-1.756073</td>\n",
       "    </tr>\n",
       "    <tr>\n",
       "      <th>4</th>\n",
       "      <td>6</td>\n",
       "      <td>3.39</td>\n",
       "      <td>17850</td>\n",
       "      <td>35</td>\n",
       "      <td>20.34</td>\n",
       "      <td>2010</td>\n",
       "      <td>12</td>\n",
       "      <td>1</td>\n",
       "      <td>-0.115016</td>\n",
       "      <td>4.032874</td>\n",
       "      <td>-1.055663</td>\n",
       "      <td>0.100717</td>\n",
       "      <td>-0.205788</td>\n",
       "      <td>-1.756073</td>\n",
       "    </tr>\n",
       "  </tbody>\n",
       "</table>\n",
       "</div>"
      ],
      "text/plain": [
       "   Quantity  UnitPrice  CustomerID  Country  TotalPrice  InvoiceYear  \\\n",
       "0         6       2.55       17850       35       15.30         2010   \n",
       "1         6       3.39       17850       35       20.34         2010   \n",
       "2         8       2.75       17850       35       22.00         2010   \n",
       "3         6       3.39       17850       35       20.34         2010   \n",
       "4         6       3.39       17850       35       20.34         2010   \n",
       "\n",
       "   InvoiceMonth  InvoiceDay  Component1  Component2  Component3  Component4  \\\n",
       "0            12           1   -0.128842    4.033365   -1.054585    0.062815   \n",
       "1            12           1   -0.115016    4.032874   -1.055663    0.100717   \n",
       "2            12           1   -0.105173    4.033891   -1.054245    0.070953   \n",
       "3            12           1   -0.115016    4.032874   -1.055663    0.100717   \n",
       "4            12           1   -0.115016    4.032874   -1.055663    0.100717   \n",
       "\n",
       "   Component5  Component6  \n",
       "0   -0.206687   -1.756525  \n",
       "1   -0.205788   -1.756073  \n",
       "2   -0.206429   -1.756373  \n",
       "3   -0.205788   -1.756073  \n",
       "4   -0.205788   -1.756073  "
      ]
     },
     "execution_count": 38,
     "metadata": {},
     "output_type": "execute_result"
    }
   ],
   "source": [
    "# creating new dataframe with original features and PCA's scores\n",
    "newdf = pd.concat([df.reset_index(drop = True),pd.DataFrame(scores_pca)], axis = 1)\n",
    "\n",
    "# renaming the columns\n",
    "newdf.columns.values[-6:] = ['Component1','Component2','Component3','Component4','Component5','Component6']\n",
    "\n",
    "newdf.head()"
   ]
  },
  {
   "cell_type": "code",
   "execution_count": 39,
   "id": "1077804d",
   "metadata": {},
   "outputs": [],
   "source": [
    "# adding kmeans clustering label\n",
    "newdf['KmeansLabel'] = kmeans.labels_"
   ]
  },
  {
   "cell_type": "code",
   "execution_count": 40,
   "id": "5e365f51",
   "metadata": {},
   "outputs": [],
   "source": [
    "# mapping 7 clusters\n",
    "newdf['Segment'] = newdf['KmeansLabel'].map({0:'first',1:'second',2:'third',3:'fourth',4:'fifth',5:'sixth'})"
   ]
  },
  {
   "cell_type": "code",
   "execution_count": 42,
   "id": "a7d08d95",
   "metadata": {},
   "outputs": [
    {
     "name": "stderr",
     "output_type": "stream",
     "text": [
      "/Users/amritaaash/opt/anaconda3/lib/python3.7/site-packages/seaborn/_decorators.py:43: FutureWarning: Pass the following variables as keyword args: x, y. From version 0.12, the only valid positional argument will be `data`, and passing other arguments without an explicit keyword will result in an error or misinterpretation.\n",
      "  FutureWarning\n"
     ]
    },
    {
     "data": {
      "image/png": "[encoded data removed]",
      "text/plain": [
       "<Figure size 720x720 with 1 Axes>"
      ]
     },
     "metadata": {
      "needs_background": "light"
     },
     "output_type": "display_data"
    }
   ],
   "source": [
    "# visualizing clusters\n",
    "x_axis = newdf['Component2']\n",
    "y_axis = newdf['Component1']\n",
    "plt.figure(figsize=(10, 10))\n",
    "sns.scatterplot(x_axis,y_axis,hue = newdf['Segment'])\n",
    "plt.show()"
   ]
  },
  {
   "cell_type": "code",
   "execution_count": null,
   "id": "4c10c24a",
   "metadata": {},
   "outputs": [],
   "source": []
  }
 ],
 "metadata": {
  "kernelspec": {
   "display_name": "Python 3 (ipykernel)",
   "language": "python",
   "name": "python3"
  },
  "language_info": {
   "codemirror_mode": {
    "name": "ipython",
    "version": 3
   },
   "file_extension": ".py",
   "mimetype": "text/x-python",
   "name": "python",
   "nbconvert_exporter": "python",
   "pygments_lexer": "ipython3",
   "version": "3.7.13"
  }
 },
 "nbformat": 4,
 "nbformat_minor": 5
}

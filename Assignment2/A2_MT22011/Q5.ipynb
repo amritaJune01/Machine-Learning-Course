{
 "cells": [
  {
   "cell_type": "code",
   "execution_count": 1,
   "id": "1054ba08",
   "metadata": {},
   "outputs": [],
   "source": [
    "# importing libraries\n",
    "import idx2numpy\n",
    "import numpy as np\n",
    "import pandas as pd\n",
    "import matplotlib.pyplot as plt"
   ]
  },
  {
   "cell_type": "code",
   "execution_count": 2,
   "id": "788ed947",
   "metadata": {},
   "outputs": [],
   "source": [
    "# loading the train test features and respective labels\n",
    "trainImages = \"Desktop/fashion_mnist/train-images-idx3-ubyte\"\n",
    "trainImages = idx2numpy.convert_from_file(trainImages)\n",
    "\n",
    "testImages = \"Desktop/fashion_mnist/t10k-images-idx3-ubyte\"\n",
    "testImages = idx2numpy.convert_from_file(testImages)\n",
    "\n",
    "trainLabels = \"Desktop/fashion_mnist/train-labels-idx1-ubyte\"\n",
    "trainLabels = idx2numpy.convert_from_file(trainLabels)\n",
    "\n",
    "testLabels = \"Desktop/fashion_mnist/t10k-labels-idx1-ubyte\"\n",
    "testLabels = idx2numpy.convert_from_file(testLabels)"
   ]
  },
  {
   "cell_type": "code",
   "execution_count": 3,
   "id": "039048ab",
   "metadata": {},
   "outputs": [],
   "source": [
    "# concatinating the train test features and the train test labels\n",
    "x = np.concatenate((trainImages,testImages),axis = 0)\n",
    "y = np.concatenate((trainLabels,testLabels),axis = 0)"
   ]
  },
  {
   "cell_type": "code",
   "execution_count": 4,
   "id": "b114d20b",
   "metadata": {},
   "outputs": [
    {
     "name": "stdout",
     "output_type": "stream",
     "text": [
      "(70000, 28, 28)\n",
      "(70000,)\n"
     ]
    }
   ],
   "source": [
    "# checking shape \n",
    "print(x.shape)\n",
    "print(y.shape)"
   ]
  },
  {
   "cell_type": "code",
   "execution_count": 5,
   "id": "ae0609dc",
   "metadata": {},
   "outputs": [
    {
     "name": "stdout",
     "output_type": "stream",
     "text": [
      "Train set size: \n",
      "(49000, 28, 28)\n",
      "(49000,)\n",
      "Test set size: \n",
      "(14000, 28, 28)\n",
      "(14000,)\n",
      "Validation set size: \n",
      "(7000, 28, 28)\n",
      "(7000,)\n"
     ]
    }
   ],
   "source": [
    "# splitting 70000 data into train test and validation set\n",
    "from sklearn.model_selection import train_test_split\n",
    "\n",
    "X_train, X_test, y_train, y_test = train_test_split(x,y,test_size = 0.2)\n",
    "\n",
    "X_train, X_valid, y_train, y_valid = train_test_split(X_train, y_train\n",
    "    ,test_size = 0.125)\n",
    "\n",
    "print(\"Train set size: \")\n",
    "print(X_train.shape)\n",
    "print(y_train.shape)\n",
    "\n",
    "print(\"Test set size: \")\n",
    "print(X_test.shape)\n",
    "print(y_test.shape)\n",
    "\n",
    "print(\"Validation set size: \")\n",
    "print(X_valid.shape)\n",
    "print(y_valid.shape)"
   ]
  },
  {
   "cell_type": "code",
   "execution_count": 6,
   "id": "71527212",
   "metadata": {},
   "outputs": [
    {
     "name": "stdout",
     "output_type": "stream",
     "text": [
      "(30000, 28, 28)\n",
      "(30000,)\n"
     ]
    }
   ],
   "source": [
    "# taking only 30000 data points for further analysis due to heavy computation\n",
    "\n",
    "x = x[:30000,:,:]\n",
    "y = y[:30000]\n",
    "\n",
    "print(x.shape)\n",
    "print(y.shape)"
   ]
  },
  {
   "cell_type": "code",
   "execution_count": 7,
   "id": "97eddb0a",
   "metadata": {},
   "outputs": [],
   "source": [
    "# reshaping data for scaling\n",
    "x = x.reshape(30000,-1)"
   ]
  },
  {
   "cell_type": "code",
   "execution_count": 8,
   "id": "9a0d42da",
   "metadata": {},
   "outputs": [
    {
     "data": {
      "text/plain": [
       "(30000, 784)"
      ]
     },
     "execution_count": 8,
     "metadata": {},
     "output_type": "execute_result"
    }
   ],
   "source": [
    "# scaling the data as range of values are not matching, point where pixels are present values are high \n",
    "# whereas points where no pixels are present the value is 0\n",
    "\n",
    "from sklearn.preprocessing import StandardScaler\n",
    "scaler = StandardScaler()\n",
    "x = scaler.fit_transform(x)\n",
    "\n",
    "# converting x to a dataframe from numpy array\n",
    "x = pd.DataFrame(x)\n",
    "x.shape"
   ]
  },
  {
   "cell_type": "code",
   "execution_count": 9,
   "id": "3cb8ef4a",
   "metadata": {},
   "outputs": [
    {
     "name": "stdout",
     "output_type": "stream",
     "text": [
      "Train set size: \n",
      "(21000, 784)\n",
      "(21000,)\n",
      "Test set size: \n",
      "(6000, 784)\n",
      "(6000,)\n",
      "Validation set size: \n",
      "(3000, 784)\n",
      "(3000,)\n"
     ]
    }
   ],
   "source": [
    "# splitting data again but for 30000 sample\n",
    "# splitting 30000 data into train test and validation set\n",
    "X_train, X_test, y_train, y_test = train_test_split(x,y,test_size = 0.2)\n",
    "\n",
    "X_train, X_valid, y_train, y_valid = train_test_split(X_train, y_train\n",
    "    ,test_size = 0.125)\n",
    "\n",
    "print(\"Train set size: \")\n",
    "print(X_train.shape)\n",
    "print(y_train.shape)\n",
    "\n",
    "print(\"Test set size: \")\n",
    "print(X_test.shape)\n",
    "print(y_test.shape)\n",
    "\n",
    "print(\"Validation set size: \")\n",
    "print(X_valid.shape)\n",
    "print(y_valid.shape)"
   ]
  },
  {
   "cell_type": "markdown",
   "id": "dcf50c61",
   "metadata": {},
   "source": [
    "### Hierarchical Clustering"
   ]
  },
  {
   "cell_type": "code",
   "execution_count": 10,
   "id": "201774a1",
   "metadata": {},
   "outputs": [
    {
     "data": {
      "image/png": "[encoded data removed]",
      "text/plain": [
       "<Figure size 432x288 with 1 Axes>"
      ]
     },
     "metadata": {
      "needs_background": "light"
     },
     "output_type": "display_data"
    }
   ],
   "source": [
    "# plotting dendogram to see relationships of similarity among groups of entities\n",
    "import scipy.cluster.hierarchy as sch\n",
    "dendogram = sch.dendrogram(sch.linkage(X_train, method='ward'))"
   ]
  },
  {
   "cell_type": "code",
   "execution_count": 14,
   "id": "0cc3e6bf",
   "metadata": {},
   "outputs": [],
   "source": [
    "# creating instance of agglomerative clustering\n",
    "from sklearn.cluster import AgglomerativeClustering\n",
    "ac = AgglomerativeClustering(n_clusters = 4, affinity='euclidean', linkage='ward')"
   ]
  },
  {
   "cell_type": "code",
   "execution_count": 15,
   "id": "bf2edd79",
   "metadata": {},
   "outputs": [
    {
     "name": "stdout",
     "output_type": "stream",
     "text": [
      "0.11926740498791612\n"
     ]
    }
   ],
   "source": [
    "# predicting train set\n",
    "y_pred_train = ac.fit_predict(X_train)\n",
    "\n",
    "# using silhoutte performance metric\n",
    "from sklearn.metrics import silhouette_score\n",
    "train_score = silhouette_score(X_train,y_pred_train)\n",
    "print(train_score)"
   ]
  },
  {
   "cell_type": "code",
   "execution_count": 16,
   "id": "73ebb9d0",
   "metadata": {},
   "outputs": [
    {
     "name": "stdout",
     "output_type": "stream",
     "text": [
      "0.08927932293652585\n"
     ]
    }
   ],
   "source": [
    "# predicting test set\n",
    "y_pred_test = ac.fit_predict(X_test)\n",
    "\n",
    "# using silhoutte performance metric\n",
    "test_score = silhouette_score(X_test,y_pred_test)\n",
    "print(test_score)"
   ]
  },
  {
   "cell_type": "code",
   "execution_count": 17,
   "id": "a74c2e88",
   "metadata": {},
   "outputs": [
    {
     "name": "stdout",
     "output_type": "stream",
     "text": [
      "0.1151711546464848\n"
     ]
    }
   ],
   "source": [
    "# predicting validation set\n",
    "y_pred_valid = ac.fit_predict(X_valid)\n",
    "\n",
    "# using silhoutte score for performance metric\n",
    "valid_score = silhouette_score(X_valid,y_pred_valid)\n",
    "print(valid_score)"
   ]
  },
  {
   "cell_type": "code",
   "execution_count": 18,
   "id": "78661b24",
   "metadata": {},
   "outputs": [
    {
     "name": "stdout",
     "output_type": "stream",
     "text": [
      "Average score of train test and valid set:\n",
      "\n",
      "Training set:\n",
      "11.926740498791611\n",
      "Test set:\n",
      "8.927932293652585\n",
      "Valid set:\n",
      "11.51711546464848\n"
     ]
    }
   ],
   "source": [
    "print(\"Average score of train test and valid set:\\n\")\n",
    "print(\"Training set:\" )\n",
    "print(train_score*100)\n",
    "print(\"Test set:\" )\n",
    "print(test_score*100)\n",
    "print(\"Valid set:\")\n",
    "print(valid_score*100)"
   ]
  },
  {
   "cell_type": "markdown",
   "id": "69ff2a4a",
   "metadata": {},
   "source": [
    "### Density based Clustering"
   ]
  },
  {
   "cell_type": "code",
   "execution_count": 29,
   "id": "69c9059a",
   "metadata": {},
   "outputs": [],
   "source": [
    "from sklearn.cluster import DBSCAN\n",
    "# fitting the model\n",
    "db = DBSCAN().fit(X_train)\n",
    "labels = db.labels_\n",
    "\n",
    "test_db = db.fit_predict(X_test)\n",
    "valid_db = db.fit_predict(X_valid)"
   ]
  },
  {
   "cell_type": "code",
   "execution_count": 32,
   "id": "5681fc26",
   "metadata": {},
   "outputs": [
    {
     "name": "stdout",
     "output_type": "stream",
     "text": [
      "Training score:  0.0\n",
      "Test score:  0.0\n",
      "Validation score:  0.0\n"
     ]
    }
   ],
   "source": [
    "from sklearn.metrics.cluster import adjusted_rand_score\n",
    "# using adjusted_rand_score for  performance metric\n",
    "\n",
    "train_score = adjusted_rand_score(labels,y_train)\n",
    "test_score = adjusted_rand_score(test_db,y_test)\n",
    "valid_score = adjusted_rand_score(valid_db,y_valid)\n",
    "\n",
    "print(\"Training score: \", train_score)\n",
    "print( \"Test score: \" , test_score )\n",
    "print( \"Validation score: \" , valid_score )"
   ]
  },
  {
   "cell_type": "markdown",
   "id": "70896754",
   "metadata": {},
   "source": [
    "As the performance of Hierarchical clustering is much better as compared to Density based clustering which failed to form clusters thus I would choose Hierarchical based clustering"
   ]
  },
  {
   "cell_type": "code",
   "execution_count": null,
   "id": "cb6e7947",
   "metadata": {},
   "outputs": [],
   "source": []
  }
 ],
 "metadata": {
  "kernelspec": {
   "display_name": "Python 3 (ipykernel)",
   "language": "python",
   "name": "python3"
  },
  "language_info": {
   "codemirror_mode": {
    "name": "ipython",
    "version": 3
   },
   "file_extension": ".py",
   "mimetype": "text/x-python",
   "name": "python",
   "nbconvert_exporter": "python",
   "pygments_lexer": "ipython3",
   "version": "3.7.13"
  }
 },
 "nbformat": 4,
 "nbformat_minor": 5
}
